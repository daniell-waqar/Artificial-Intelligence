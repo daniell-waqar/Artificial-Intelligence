{
 "cells": [
  {
   "cell_type": "code",
   "execution_count": 1,
   "id": "77eb9876",
   "metadata": {},
   "outputs": [],
   "source": [
    "class SimpleAgent:\n",
    "    def __init__(self):\n",
    "        self.current_floor = 1\n",
    "        self.direction = \"up\"\n",
    "\n",
    "    def move_to_floor(self, floor,direction):\n",
    "        self.current_floor = floor\n",
    "        self.direction = direction\n",
    "\n",
    "\n",
    "    def checkCapacity_make_decision(self, floor_request):\n",
    "        if floor_request > self.current_floor:\n",
    "            print(\"Space not availabe\")\n",
    "            self.move_to_floor(2,\"up\")\n",
    "            \n",
    "        elif floor_request < self.current_floor:\n",
    "            print(\"Space avaialbe\")\n",
    "            self.move_to_floor(1,\"down\")\n",
    "\n",
    "        if self.direction == \"up\":\n",
    "            if floor_request > self.current_floor:\n",
    "                return \"move_up\"\n",
    "            elif floor_request == self.current_floor:\n",
    "                return \"open_doors\"\n",
    "            else:\n",
    "                return \"wait\"\n",
    "\n",
    "        elif self.direction == \"down\":\n",
    "            if floor_request < self.current_floor:\n",
    "                return \"move_down\"\n",
    "            elif floor_request == self.current_floor:\n",
    "                return \"open_doors\"\n",
    "            else:\n",
    "                return \"wait\"\n",
    "\n",
    "\n",
    "\n"
   ]
  },
  {
   "cell_type": "code",
   "execution_count": 2,
   "id": "f8c2f2e7",
   "metadata": {},
   "outputs": [
    {
     "name": "stdout",
     "output_type": "stream",
     "text": [
      "Space not availabe\n",
      "move_up\n"
     ]
    }
   ],
   "source": [
    "\n",
    "a1 = SimpleAgent()\n",
    "a1.move_to_floor(1,\"up\")\n",
    "decision = a1.checkCapacity_make_decision(5)\n",
    "\n",
    "\n",
    "print(decision)"
   ]
  },
  {
   "cell_type": "code",
   "execution_count": null,
   "id": "d64d94b4",
   "metadata": {},
   "outputs": [],
   "source": []
  }
 ],
 "metadata": {
  "kernelspec": {
   "display_name": "Python 3 (ipykernel)",
   "language": "python",
   "name": "python3"
  },
  "language_info": {
   "codemirror_mode": {
    "name": "ipython",
    "version": 3
   },
   "file_extension": ".py",
   "mimetype": "text/x-python",
   "name": "python",
   "nbconvert_exporter": "python",
   "pygments_lexer": "ipython3",
   "version": "3.10.6"
  }
 },
 "nbformat": 4,
 "nbformat_minor": 5
}
