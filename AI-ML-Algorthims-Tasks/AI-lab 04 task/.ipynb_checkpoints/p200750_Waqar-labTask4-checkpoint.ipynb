{
 "cells": [
  {
   "cell_type": "code",
   "execution_count": 8,
   "id": "ffc4cb32",
   "metadata": {},
   "outputs": [],
   "source": [
    "from sklearn.datasets import load_iris\n",
    "import matplotlib.pyplot as plt\n",
    "import numpy as np\n",
    "from sklearn import datasets\n",
    "from sklearn import tree\n",
    "import pandas as pd\n",
    "\n",
    "from sklearn.tree import DecisionTreeClassifier \n",
    "from sklearn.model_selection import train_test_split\n",
    "from sklearn import metrics "
   ]
  },
  {
   "cell_type": "code",
   "execution_count": 2,
   "id": "fcf15867",
   "metadata": {},
   "outputs": [
    {
     "name": "stdout",
     "output_type": "stream",
     "text": [
      "   sepal length (cm)  sepal width (cm)  petal length (cm)  petal width (cm)  \\\n",
      "0                5.1               3.5                1.4               0.2   \n",
      "1                4.9               3.0                1.4               0.2   \n",
      "2                4.7               3.2                1.3               0.2   \n",
      "3                4.6               3.1                1.5               0.2   \n",
      "4                5.0               3.6                1.4               0.2   \n",
      "\n",
      "   target  \n",
      "0       0  \n",
      "1       0  \n",
      "2       0  \n",
      "3       0  \n",
      "4       0  \n"
     ]
    }
   ],
   "source": [
    "\n",
    "iris = datasets.load_iris()\n",
    "df = pd.DataFrame(data=iris.data, columns=iris.feature_names)\n",
    "\n",
    "df[\"target\"] = iris.target\n",
    "\n",
    "\n",
    "print(df.head())"
   ]
  },
  {
   "cell_type": "code",
   "execution_count": 4,
   "id": "12f66152",
   "metadata": {},
   "outputs": [
    {
     "name": "stdout",
     "output_type": "stream",
     "text": [
      "[[5.6 2.9 3.6 1.3]\n",
      " [5.1 2.5 3.  1.1]\n",
      " [6.2 3.4 5.4 2.3]\n",
      " [6.4 2.7 5.3 1.9]\n",
      " [5.1 3.8 1.9 0.4]\n",
      " [4.8 3.4 1.6 0.2]\n",
      " [6.6 3.  4.4 1.4]\n",
      " [6.  2.2 4.  1. ]\n",
      " [5.4 3.4 1.7 0.2]\n",
      " [5.  3.5 1.6 0.6]\n",
      " [4.8 3.4 1.9 0.2]\n",
      " [4.4 3.2 1.3 0.2]\n",
      " [6.4 3.1 5.5 1.8]\n",
      " [6.3 2.3 4.4 1.3]\n",
      " [4.5 2.3 1.3 0.3]\n",
      " [6.1 2.8 4.7 1.2]\n",
      " [5.8 2.7 5.1 1.9]\n",
      " [7.9 3.8 6.4 2. ]\n",
      " [6.7 3.  5.2 2.3]\n",
      " [5.5 2.4 3.8 1.1]\n",
      " [6.  3.  4.8 1.8]\n",
      " [6.3 2.5 5.  1.9]\n",
      " [6.5 3.  5.5 1.8]\n",
      " [5.8 2.6 4.  1.2]\n",
      " [4.4 3.  1.3 0.2]\n",
      " [4.9 3.  1.4 0.2]\n",
      " [6.5 3.  5.2 2. ]\n",
      " [6.1 3.  4.9 1.8]\n",
      " [6.2 2.9 4.3 1.3]\n",
      " [6.3 2.9 5.6 1.8]\n",
      " [5.9 3.2 4.8 1.8]\n",
      " [5.8 2.7 3.9 1.2]\n",
      " [5.1 3.8 1.5 0.3]\n",
      " [5.5 2.4 3.7 1. ]\n",
      " [7.7 3.  6.1 2.3]\n",
      " [5.4 3.  4.5 1.5]\n",
      " [5.2 2.7 3.9 1.4]\n",
      " [5.2 3.4 1.4 0.2]\n",
      " [5.8 2.7 4.1 1. ]\n",
      " [7.1 3.  5.9 2.1]\n",
      " [6.7 3.1 4.4 1.4]\n",
      " [7.7 2.8 6.7 2. ]\n",
      " [5.5 2.6 4.4 1.2]\n",
      " [7.3 2.9 6.3 1.8]\n",
      " [5.9 3.  5.1 1.8]\n",
      " [5.8 2.7 5.1 1.9]\n",
      " [5.6 3.  4.1 1.3]\n",
      " [6.2 2.8 4.8 1.8]\n",
      " [5.2 4.1 1.5 0.1]\n",
      " [6.5 3.2 5.1 2. ]\n",
      " [6.1 3.  4.6 1.4]\n",
      " [4.4 2.9 1.4 0.2]\n",
      " [5.  3.5 1.3 0.3]\n",
      " [5.1 3.4 1.5 0.2]\n",
      " [6.7 3.  5.  1.7]\n",
      " [4.9 3.1 1.5 0.1]\n",
      " [4.9 3.6 1.4 0.1]\n",
      " [6.3 2.7 4.9 1.8]\n",
      " [5.1 3.7 1.5 0.4]\n",
      " [5.2 3.5 1.5 0.2]\n",
      " [5.4 3.7 1.5 0.2]\n",
      " [5.7 2.8 4.5 1.3]\n",
      " [4.9 2.5 4.5 1.7]\n",
      " [6.9 3.2 5.7 2.3]\n",
      " [5.6 2.5 3.9 1.1]\n",
      " [5.7 2.9 4.2 1.3]\n",
      " [5.5 2.5 4.  1.3]\n",
      " [6.  2.2 5.  1.5]\n",
      " [5.7 4.4 1.5 0.4]\n",
      " [6.4 3.2 4.5 1.5]\n",
      " [6.  3.4 4.5 1.6]\n",
      " [4.6 3.6 1.  0.2]\n",
      " [5.6 2.7 4.2 1.3]\n",
      " [6.8 2.8 4.8 1.4]\n",
      " [7.6 3.  6.6 2.1]\n",
      " [4.6 3.2 1.4 0.2]\n",
      " [7.4 2.8 6.1 1.9]\n",
      " [4.8 3.  1.4 0.1]\n",
      " [5.1 3.5 1.4 0.3]\n",
      " [5.9 3.  4.2 1.5]\n",
      " [5.  3.6 1.4 0.2]\n",
      " [7.2 3.6 6.1 2.5]\n",
      " [6.5 2.8 4.6 1.5]\n",
      " [6.4 2.9 4.3 1.3]\n",
      " [5.4 3.9 1.3 0.4]\n",
      " [6.3 3.4 5.6 2.4]\n",
      " [6.8 3.2 5.9 2.3]\n",
      " [4.8 3.  1.4 0.3]\n",
      " [5.  2.  3.5 1. ]\n",
      " [5.  3.  1.6 0.2]\n",
      " [6.1 2.9 4.7 1.4]\n",
      " [7.  3.2 4.7 1.4]\n",
      " [6.  2.9 4.5 1.5]\n",
      " [5.  3.2 1.2 0.2]\n",
      " [5.7 3.  4.2 1.2]\n",
      " [4.6 3.1 1.5 0.2]\n",
      " [5.3 3.7 1.5 0.2]\n",
      " [7.2 3.2 6.  1.8]\n",
      " [6.1 2.8 4.  1.3]\n",
      " [5.  3.4 1.5 0.2]\n",
      " [4.3 3.  1.1 0.1]\n",
      " [5.5 2.3 4.  1.3]\n",
      " [7.7 2.6 6.9 2.3]\n",
      " [5.4 3.4 1.5 0.4]\n",
      " [5.8 4.  1.2 0.2]\n",
      " [7.7 3.8 6.7 2.2]\n",
      " [4.6 3.4 1.4 0.3]\n",
      " [6.8 3.  5.5 2.1]\n",
      " [5.7 2.8 4.1 1.3]\n",
      " [4.8 3.1 1.6 0.2]\n",
      " [5.5 4.2 1.4 0.2]\n",
      " [5.  3.3 1.4 0.2]\n",
      " [6.4 2.8 5.6 2.1]\n",
      " [6.2 2.2 4.5 1.5]\n",
      " [6.  2.7 5.1 1.6]\n",
      " [5.1 3.3 1.7 0.5]\n",
      " [6.9 3.1 5.4 2.1]\n",
      " [4.7 3.2 1.3 0.2]\n",
      " [6.9 3.1 5.1 2.3]\n",
      " [6.5 3.  5.8 2.2]]\n",
      "[1 1 2 2 0 0 1 1 0 0 0 0 2 1 0 1 2 2 2 1 2 2 2 1 0 0 2 2 1 2 1 1 0 1 2 1 1\n",
      " 0 1 2 1 2 1 2 2 2 1 2 0 2 1 0 0 0 1 0 0 2 0 0 0 1 2 2 1 1 1 2 0 1 1 0 1 1\n",
      " 2 0 2 0 0 1 0 2 1 1 0 2 2 0 1 0 1 1 1 0 1 0 0 2 1 0 0 1 2 0 0 2 0 2 1 0 0\n",
      " 0 2 1 1 0 2 0 2 2]\n",
      "[[6.9 3.1 4.9 1.5]\n",
      " [6.4 2.8 5.6 2.2]\n",
      " [6.3 3.3 6.  2.5]\n",
      " [5.4 3.9 1.7 0.4]\n",
      " [6.6 2.9 4.6 1.3]\n",
      " [5.7 2.6 3.5 1. ]\n",
      " [5.  3.4 1.6 0.4]\n",
      " [6.7 3.1 5.6 2.4]\n",
      " [6.7 3.1 4.7 1.5]\n",
      " [4.9 2.4 3.3 1. ]\n",
      " [6.3 3.3 4.7 1.6]\n",
      " [4.7 3.2 1.6 0.2]\n",
      " [6.4 3.2 5.3 2.3]\n",
      " [5.6 3.  4.5 1.5]\n",
      " [7.2 3.  5.8 1.6]\n",
      " [5.8 2.8 5.1 2.4]\n",
      " [5.7 2.5 5.  2. ]\n",
      " [5.6 2.8 4.9 2. ]\n",
      " [4.9 3.1 1.5 0.2]\n",
      " [5.  2.3 3.3 1. ]\n",
      " [5.1 3.8 1.6 0.2]\n",
      " [6.1 2.6 5.6 1.4]\n",
      " [5.1 3.5 1.4 0.2]\n",
      " [6.7 3.3 5.7 2.5]\n",
      " [6.3 2.8 5.1 1.5]\n",
      " [6.7 2.5 5.8 1.8]\n",
      " [6.3 2.5 4.9 1.5]\n",
      " [6.7 3.3 5.7 2.1]\n",
      " [5.7 3.8 1.7 0.3]\n",
      " [5.5 3.5 1.3 0.2]]\n",
      "[1 2 2 0 1 1 0 2 1 1 1 0 2 1 2 2 2 2 0 1 0 2 0 2 2 2 1 2 0 0]\n"
     ]
    }
   ],
   "source": [
    "X = df.iloc[:, :-1].values\n",
    "y = df.iloc[:, 4].values\n",
    "\n",
    "X_train, X_test, y_train, y_test = train_test_split(X, y, test_size=0.20)\n",
    "\n",
    "print(X_train)\n",
    "print(y_train)\n",
    "print(X_test)\n",
    "print(y_test)"
   ]
  },
  {
   "cell_type": "code",
   "execution_count": 5,
   "id": "24333ca2",
   "metadata": {},
   "outputs": [],
   "source": [
    "clf = DecisionTreeClassifier(criterion=\"gini\", max_depth=3)\n",
    "\n",
    "\n",
    "clf = clf.fit(X_train,y_train)\n",
    "\n",
    "y_pred = clf.predict(X_test)"
   ]
  },
  {
   "cell_type": "code",
   "execution_count": 10,
   "id": "4b42a5a9",
   "metadata": {},
   "outputs": [
    {
     "name": "stdout",
     "output_type": "stream",
     "text": [
      "Accuracy =     0.9333333333333333\n"
     ]
    }
   ],
   "source": [
    "print(\"Accuracy : \",metrics.accuracy_score(y_test, y_pred))"
   ]
  },
  {
   "cell_type": "code",
   "execution_count": 9,
   "id": "c9ce53d8",
   "metadata": {},
   "outputs": [
    {
     "name": "stdout",
     "output_type": "stream",
     "text": [
      "Accuracy =  0.9\n"
     ]
    }
   ],
   "source": [
    "clf = DecisionTreeClassifier(criterion=\"entropy\", max_depth=3)\n",
    "\n",
    "clf = clf.fit(X_train,y_train)\n",
    "\n",
    "y_pred = clf.predict(X_test)\n",
    "\n",
    "# Model Accuracy, how often is the classifier correct?\n",
    "print(\"Accuracy = \",metrics.accuracy_score(y_test, y_pred))"
   ]
  },
  {
   "cell_type": "code",
   "execution_count": 11,
   "id": "97b21bf2",
   "metadata": {},
   "outputs": [],
   "source": [
    "\n",
    "%matplotlib inline\n",
    "r = df.target"
   ]
  },
  {
   "cell_type": "code",
   "execution_count": 12,
   "id": "02a10aad",
   "metadata": {},
   "outputs": [
    {
     "data": {
      "image/png": "[encoded data removed]",
      "text/plain": [
       "<Figure size 432x288 with 1 Axes>"
      ]
     },
     "metadata": {
      "needs_background": "light"
     },
     "output_type": "display_data"
    }
   ],
   "source": [
    "plt.hist(r,bins=20)\n",
    "plt.show()"
   ]
  },
  {
   "cell_type": "code",
   "execution_count": null,
   "id": "562b44ba",
   "metadata": {},
   "outputs": [],
   "source": []
  },
  {
   "cell_type": "code",
   "execution_count": null,
   "id": "45b67e7f",
   "metadata": {},
   "outputs": [],
   "source": []
  }
 ],
 "metadata": {
  "kernelspec": {
   "display_name": "Python 3 (ipykernel)",
   "language": "python",
   "name": "python3"
  },
  "language_info": {
   "codemirror_mode": {
    "name": "ipython",
    "version": 3
   },
   "file_extension": ".py",
   "mimetype": "text/x-python",
   "name": "python",
   "nbconvert_exporter": "python",
   "pygments_lexer": "ipython3",
   "version": "3.10.6"
  }
 },
 "nbformat": 4,
 "nbformat_minor": 5
}
