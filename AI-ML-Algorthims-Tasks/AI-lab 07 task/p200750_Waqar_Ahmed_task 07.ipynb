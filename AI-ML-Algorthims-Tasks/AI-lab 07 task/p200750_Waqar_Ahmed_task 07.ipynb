{
 "cells": [
  {
   "cell_type": "code",
   "execution_count": null,
   "id": "b34d041d",
   "metadata": {},
   "outputs": [],
   "source": [
    "import pandas as pd  \n",
    "\n",
    "# load the dataset\n",
    "\n",
    "df = pd.read_csv(\"Cust_Segmentation.csv\")\n",
    "\n",
    "print(df.head())  \n"
   ]
  },
  {
   "cell_type": "code",
   "execution_count": 68,
   "id": "bb3becbb",
   "metadata": {},
   "outputs": [
    {
     "name": "stdout",
     "output_type": "stream",
     "text": [
      "   Customer Id  Age  Edu  Years Employed  Income  Card Debt  Other Debt  \\\n",
      "0            1   41    2               6      19      0.124       1.073   \n",
      "1            2   47    1              26     100      4.582       8.218   \n",
      "2            3   33    2              10      57      6.111       5.802   \n",
      "3            4   29    2               4      19      0.681       0.516   \n",
      "4            5   47    1              31     253      9.308       8.908   \n",
      "\n",
      "   Defaulted Address  DebtIncomeRatio  \n",
      "0        0.0  NBA001              6.3  \n",
      "1        0.0  NBA021             12.8  \n",
      "2        1.0  NBA013             20.9  \n",
      "3        0.0  NBA009              6.3  \n",
      "4        0.0  NBA008              7.2  \n"
     ]
    }
   ],
   "source": [
    "# Drop duplicates from Dataset\n",
    "\n",
    "df.drop_duplicates(inplace=True)\n",
    "\n",
    "# Drop missing values \n",
    "df.dropna(inplace=True)\n",
    "\n",
    "print(df.head())"
   ]
  },
  {
   "cell_type": "code",
   "execution_count": 69,
   "id": "0d8be3ae",
   "metadata": {},
   "outputs": [],
   "source": [
    "# Convert non-numeric values to NaN\n",
    "\n",
    "df['Address'] = pd.to_numeric(df['Address'], errors='coerce')"
   ]
  },
  {
   "cell_type": "code",
   "execution_count": 70,
   "id": "3cab7cc7",
   "metadata": {},
   "outputs": [
    {
     "name": "stdout",
     "output_type": "stream",
     "text": [
      "   Customer Id       Age       Edu  Years Employed    Income  Card Debt  \\\n",
      "0    -1.766243  0.768304  0.298793       -0.359007 -0.723102  -0.675699   \n",
      "1    -1.762130  1.519090 -0.779325        2.647029  1.478707   1.431421   \n",
      "2    -1.758018 -0.232744  0.298793        0.242201  0.309845   2.154119   \n",
      "3    -1.753905 -0.733267  0.298793       -0.659610 -0.723102  -0.412427   \n",
      "4    -1.749792  1.519090 -0.779325        3.398538  5.637681   3.665215   \n",
      "\n",
      "   Other Debt  Defaulted  Address  DebtIncomeRatio  \n",
      "0   -0.604284  -0.594950      NaN        -0.580528  \n",
      "1    1.570620  -0.594950      NaN         0.372222  \n",
      "2    0.835201   1.680814      NaN         1.559495  \n",
      "3   -0.773833  -0.594950      NaN        -0.580528  \n",
      "4    1.780653  -0.594950      NaN        -0.448609  \n"
     ]
    },
    {
     "name": "stderr",
     "output_type": "stream",
     "text": [
      "/home/waqar/.local/lib/python3.10/site-packages/sklearn/utils/extmath.py:1047: RuntimeWarning: invalid value encountered in true_divide\n",
      "  updated_mean = (last_sum + new_sum) / updated_sample_count\n",
      "/home/waqar/.local/lib/python3.10/site-packages/sklearn/utils/extmath.py:1052: RuntimeWarning: invalid value encountered in true_divide\n",
      "  T = new_sum / new_sample_count\n",
      "/home/waqar/.local/lib/python3.10/site-packages/sklearn/utils/extmath.py:1072: RuntimeWarning: invalid value encountered in true_divide\n",
      "  new_unnormalized_variance -= correction**2 / new_sample_count\n"
     ]
    }
   ],
   "source": [
    "from sklearn.preprocessing import StandardScaler\n",
    "\n",
    "\n",
    "# Initialize the scaler\n",
    "scaler = StandardScaler()\n",
    "\n",
    "\n",
    "df_scaled = scaler.fit_transform(df)\n",
    "\n",
    "df_scaled = pd.DataFrame(df_scaled, columns=df.columns)\n",
    "\n",
    "# Print the first 5 rows of the scaled dataset\n",
    "print(df_scaled.head())\n"
   ]
  },
  {
   "cell_type": "code",
   "execution_count": 71,
   "id": "3fd9a069",
   "metadata": {},
   "outputs": [
    {
     "data": {
      "text/html": [
       "<div>\n",
       "<style scoped>\n",
       "    .dataframe tbody tr th:only-of-type {\n",
       "        vertical-align: middle;\n",
       "    }\n",
       "\n",
       "    .dataframe tbody tr th {\n",
       "        vertical-align: top;\n",
       "    }\n",
       "\n",
       "    .dataframe thead th {\n",
       "        text-align: right;\n",
       "    }\n",
       "</style>\n",
       "<table border=\"1\" class=\"dataframe\">\n",
       "  <thead>\n",
       "    <tr style=\"text-align: right;\">\n",
       "      <th></th>\n",
       "      <th>Income</th>\n",
       "      <th>Years Employed</th>\n",
       "    </tr>\n",
       "  </thead>\n",
       "  <tbody>\n",
       "    <tr>\n",
       "      <th>0</th>\n",
       "      <td>-0.723102</td>\n",
       "      <td>-0.359007</td>\n",
       "    </tr>\n",
       "    <tr>\n",
       "      <th>1</th>\n",
       "      <td>1.478707</td>\n",
       "      <td>2.647029</td>\n",
       "    </tr>\n",
       "    <tr>\n",
       "      <th>2</th>\n",
       "      <td>0.309845</td>\n",
       "      <td>0.242201</td>\n",
       "    </tr>\n",
       "    <tr>\n",
       "      <th>3</th>\n",
       "      <td>-0.723102</td>\n",
       "      <td>-0.659610</td>\n",
       "    </tr>\n",
       "    <tr>\n",
       "      <th>4</th>\n",
       "      <td>5.637681</td>\n",
       "      <td>3.398538</td>\n",
       "    </tr>\n",
       "  </tbody>\n",
       "</table>\n",
       "</div>"
      ],
      "text/plain": [
       "     Income  Years Employed\n",
       "0 -0.723102       -0.359007\n",
       "1  1.478707        2.647029\n",
       "2  0.309845        0.242201\n",
       "3 -0.723102       -0.659610\n",
       "4  5.637681        3.398538"
      ]
     },
     "execution_count": 71,
     "metadata": {},
     "output_type": "execute_result"
    }
   ],
   "source": [
    "# Select the relevant features\n",
    "\n",
    "X = df_scaled[['Income', 'Years Employed']]\n",
    "X.head()\n"
   ]
  },
  {
   "cell_type": "code",
   "execution_count": 72,
   "id": "f0347a58",
   "metadata": {},
   "outputs": [
    {
     "name": "stderr",
     "output_type": "stream",
     "text": [
      "/home/waqar/.local/lib/python3.10/site-packages/sklearn/cluster/_kmeans.py:870: FutureWarning: The default value of `n_init` will change from 10 to 'auto' in 1.4. Set the value of `n_init` explicitly to suppress the warning\n",
      "  warnings.warn(\n",
      "/home/waqar/.local/lib/python3.10/site-packages/sklearn/cluster/_kmeans.py:870: FutureWarning: The default value of `n_init` will change from 10 to 'auto' in 1.4. Set the value of `n_init` explicitly to suppress the warning\n",
      "  warnings.warn(\n",
      "/home/waqar/.local/lib/python3.10/site-packages/sklearn/cluster/_kmeans.py:870: FutureWarning: The default value of `n_init` will change from 10 to 'auto' in 1.4. Set the value of `n_init` explicitly to suppress the warning\n",
      "  warnings.warn(\n",
      "/home/waqar/.local/lib/python3.10/site-packages/sklearn/cluster/_kmeans.py:870: FutureWarning: The default value of `n_init` will change from 10 to 'auto' in 1.4. Set the value of `n_init` explicitly to suppress the warning\n",
      "  warnings.warn(\n",
      "/home/waqar/.local/lib/python3.10/site-packages/sklearn/cluster/_kmeans.py:870: FutureWarning: The default value of `n_init` will change from 10 to 'auto' in 1.4. Set the value of `n_init` explicitly to suppress the warning\n",
      "  warnings.warn(\n",
      "/home/waqar/.local/lib/python3.10/site-packages/sklearn/cluster/_kmeans.py:870: FutureWarning: The default value of `n_init` will change from 10 to 'auto' in 1.4. Set the value of `n_init` explicitly to suppress the warning\n",
      "  warnings.warn(\n",
      "/home/waqar/.local/lib/python3.10/site-packages/sklearn/cluster/_kmeans.py:870: FutureWarning: The default value of `n_init` will change from 10 to 'auto' in 1.4. Set the value of `n_init` explicitly to suppress the warning\n",
      "  warnings.warn(\n",
      "/home/waqar/.local/lib/python3.10/site-packages/sklearn/cluster/_kmeans.py:870: FutureWarning: The default value of `n_init` will change from 10 to 'auto' in 1.4. Set the value of `n_init` explicitly to suppress the warning\n",
      "  warnings.warn(\n",
      "/home/waqar/.local/lib/python3.10/site-packages/sklearn/cluster/_kmeans.py:870: FutureWarning: The default value of `n_init` will change from 10 to 'auto' in 1.4. Set the value of `n_init` explicitly to suppress the warning\n",
      "  warnings.warn(\n"
     ]
    },
    {
     "data": {
      "image/png": "[encoded data removed]",
      "text/plain": [
       "<Figure size 432x288 with 1 Axes>"
      ]
     },
     "metadata": {
      "needs_background": "light"
     },
     "output_type": "display_data"
    }
   ],
   "source": [
    "\n",
    "from sklearn.cluster import KMeans\n",
    "import matplotlib.pyplot as plt\n",
    "\n",
    "# Fit the KMeans model with various k values\n",
    "\n",
    "KCS = []\n",
    "for k in range(1, 10):\n",
    "    kmeans = KMeans(n_clusters=k)\n",
    "    kmeans.fit(X)\n",
    "    KCS.append(kmeans.inertia_)\n",
    "\n",
    "# Plot the elbow graph\n",
    "\n",
    "plt.plot(range(1, 10), KCS)\n",
    "plt.title('Elbow Method')\n",
    "plt.xlabel('Number of Clusters')\n",
    "plt.ylabel('KCS')\n",
    "plt.show()\n",
    "\n"
   ]
  },
  {
   "cell_type": "code",
   "execution_count": 76,
   "id": "ebe0b77a",
   "metadata": {},
   "outputs": [
    {
     "name": "stderr",
     "output_type": "stream",
     "text": [
      "/home/waqar/.local/lib/python3.10/site-packages/sklearn/cluster/_kmeans.py:870: FutureWarning: The default value of `n_init` will change from 10 to 'auto' in 1.4. Set the value of `n_init` explicitly to suppress the warning\n",
      "  warnings.warn(\n"
     ]
    }
   ],
   "source": [
    "# Fit the KMeans model with k=5\n",
    "\n",
    "kmeans = KMeans(n_clusters=5, random_state=42)\n",
    "kmeans.fit(X)\n",
    "\n",
    "# Add the cluster labels to the dataframe\n",
    "df['cluster'] = kmeans.labels_\n"
   ]
  },
  {
   "cell_type": "code",
   "execution_count": 77,
   "id": "cf659904",
   "metadata": {},
   "outputs": [
    {
     "data": {
      "image/png": "[encoded data removed]",
      "text/plain": [
       "<Figure size 432x288 with 1 Axes>"
      ]
     },
     "metadata": {
      "needs_background": "light"
     },
     "output_type": "display_data"
    }
   ],
   "source": [
    "# Visualize the clusters\n",
    "plt.scatter(df['Income'], df['Years Employed'], c=df['cluster'], cmap='viridis')\n",
    "plt.xlabel('Income')\n",
    "plt.ylabel('Years Employeed')\n",
    "plt.title('Customer Segmentation')\n",
    "plt.show()\n"
   ]
  },
  {
   "cell_type": "markdown",
   "id": "f60399a6",
   "metadata": {},
   "source": [
    "    Q1:  # Splitting the data into training and testing sets is not necessary for K-means clustering because it is an unsupervised learning algorithm, meaning it does not require labeled data to learn from. Instead, K-means clustering identifies patterns and structure within the data itself based on the input features and clusters the data into groups. we could split the data into training and testing sets if we want to evaluate the performance of the K-means clustering algorithm in predicting new, unseen data.\n",
    "    \n",
    "    \n",
    "\n",
    "\n",
    "    "
   ]
  },
  {
   "cell_type": "markdown",
   "id": "14a511db",
   "metadata": {},
   "source": [
    "Q2:  #  scaling the features is important for K-means clustering to ensure that the distance calculation and optimization process are unbiased and accurate and to help interpret the clustering results."
   ]
  },
  {
   "cell_type": "code",
   "execution_count": null,
   "id": "9c52b6f7",
   "metadata": {},
   "outputs": [],
   "source": []
  },
  {
   "cell_type": "code",
   "execution_count": null,
   "id": "397ce39f",
   "metadata": {},
   "outputs": [],
   "source": []
  }
 ],
 "metadata": {
  "kernelspec": {
   "display_name": "Python 3 (ipykernel)",
   "language": "python",
   "name": "python3"
  },
  "language_info": {
   "codemirror_mode": {
    "name": "ipython",
    "version": 3
   },
   "file_extension": ".py",
   "mimetype": "text/x-python",
   "name": "python",
   "nbconvert_exporter": "python",
   "pygments_lexer": "ipython3",
   "version": "3.10.6"
  }
 },
 "nbformat": 4,
 "nbformat_minor": 5
}
