{
 "cells": [
  {
   "cell_type": "code",
   "execution_count": 1,
   "id": "b240715d",
   "metadata": {},
   "outputs": [
    {
     "ename": "AttributeError",
     "evalue": "'ReflexAgent' object has no attribute 'run'",
     "output_type": "error",
     "traceback": [
      "\u001b[0;31m---------------------------------------------------------------------------\u001b[0m",
      "\u001b[0;31mAttributeError\u001b[0m                            Traceback (most recent call last)",
      "\u001b[0;32m/tmp/ipykernel_13717/1449698867.py\u001b[0m in \u001b[0;36m<module>\u001b[0;34m\u001b[0m\n\u001b[1;32m     23\u001b[0m \u001b[0;34m\u001b[0m\u001b[0m\n\u001b[1;32m     24\u001b[0m \u001b[0mrA\u001b[0m \u001b[0;34m=\u001b[0m \u001b[0mReflexAgent\u001b[0m\u001b[0;34m(\u001b[0m\u001b[0;34m)\u001b[0m\u001b[0;34m\u001b[0m\u001b[0;34m\u001b[0m\u001b[0m\n\u001b[0;32m---> 25\u001b[0;31m \u001b[0mrA\u001b[0m\u001b[0;34m.\u001b[0m\u001b[0mrun\u001b[0m\u001b[0;34m(\u001b[0m\u001b[0;36m10\u001b[0m\u001b[0;34m)\u001b[0m\u001b[0;34m\u001b[0m\u001b[0;34m\u001b[0m\u001b[0m\n\u001b[0m\u001b[1;32m     26\u001b[0m \u001b[0;34m\u001b[0m\u001b[0m\n\u001b[1;32m     27\u001b[0m \u001b[0;34m\u001b[0m\u001b[0m\n",
      "\u001b[0;31mAttributeError\u001b[0m: 'ReflexAgent' object has no attribute 'run'"
     ]
    }
   ],
   "source": [
    "# TASK-2\n",
    "\n",
    "class ReflexAgent:\n",
    "    def _init_(self):\n",
    "        self.state = \"moist soil\"\n",
    "\n",
    "    def CheckMoisture(self, moisture_level):\n",
    "        if moisture_level < 20:\n",
    "            self.state = \"dry soil\"\n",
    "            self.activate_watering_system()\n",
    "        elif moisture_level < 80:\n",
    "            self.state = \"moist soil\"\n",
    "            self.deactivate_watering_system()\n",
    "        else:\n",
    "            self.state = \"wet soil\"\n",
    "            self.deactivate_watering_system()\n",
    "\n",
    "    def activate_watering_system(self):\n",
    "        print(\"Watering system activated to water the plants.\")\n",
    "\n",
    "    def deactivate_watering_system(self):\n",
    "        print(\"Watering system deactivated to avoid over watering the plants.\")\n",
    "        \n",
    "rA = ReflexAgent()\n",
    "rA.run(10)\n",
    "        \n",
    "    \n",
    "        \n",
    "\n"
   ]
  },
  {
   "cell_type": "code",
   "execution_count": null,
   "id": "766eaad3",
   "metadata": {},
   "outputs": [],
   "source": [
    "class ReflexAgent:\n",
    "    def _init_(self):\n",
    "        self.state = \"moist soil\"\n",
    "\n",
    "    def move_to_floor(self, floor_numb):\n",
    "        if floor_num == INT_MAX:\n",
    "            self.state = \"floor\"\n",
    "            self.activate_watering_system()\n",
    "        elif moisture_level < 80:\n",
    "            self.state = \"moist soil\"\n",
    "            self.deactivate_watering_system()\n",
    "        else:\n",
    "            self.state = \"wet soil\"\n",
    "            self.deactivate_watering_system()\n",
    "\n",
    "    def activate_watering_system(self):\n",
    "        print(\"Watering system activated to water the plants.\")\n",
    "\n",
    "    def deactivate_watering_system(self):\n",
    "        print(\"Watering system deactivated to avoid over watering the plants.\")\n",
    "        \n",
    "rA = ReflexAgent()\n",
    "rA.run(10)"
   ]
  },
  {
   "cell_type": "code",
   "execution_count": null,
   "id": "b15bf665",
   "metadata": {},
   "outputs": [
    {
     "name": "stdout",
     "output_type": "stream",
     "text": [
      "Is smoke in the room [0/1] 1\n",
      "Temperature of the building ? 40\n",
      "sound the alarm and activate the sprinkler system\n"
     ]
    }
   ],
   "source": [
    "#TASK - 1\n",
    "\n",
    "percept = ['Smoke & Temperature Detector']\n",
    "states = ['smoke', 'temperature']\n",
    "rules = ['sound the alarm and activate the sprinkler system', 'Sound the alarm and call the fire department', 'keep the system in normal state']\n",
    "\n",
    "def getState(is_smoke, tempo):\n",
    "    if (is_smoke and tempo < 50):\n",
    "        return states[0]\n",
    "    elif (not(is_smoke) and tempo > 50):\n",
    "        return states[1]\n",
    "    elif (not(is_smoke) and tempo < 50):\n",
    "        return []\n",
    "    \n",
    "def getRules(state_value):\n",
    "    if (state_value == 'smoke'):\n",
    "        return rules[0]\n",
    "    \n",
    "    elif (state_value == 'temperature'):\n",
    "        return rules[1]\n",
    "    \n",
    "    elif (len(state_value) == 0):\n",
    "        return rules[2]\n",
    "    \n",
    "def simpleReflexAgent(s, t):\n",
    "    return getRules(getState(s, t))\n",
    "\n",
    "\n",
    "count = 0\n",
    "while(count < 5):\n",
    "    s = bool(int(input('Is smoke in the room [0/1] ')))\n",
    "    t = int(input('Temperature of the building ? '))\n",
    "    r = simpleReflexAgent(s, t)\n",
    "    print(r)\n",
    "    count = count + 1"
   ]
  },
  {
   "cell_type": "code",
   "execution_count": null,
   "id": "0b83b106",
   "metadata": {},
   "outputs": [],
   "source": []
  },
  {
   "cell_type": "code",
   "execution_count": null,
   "id": "9475b827",
   "metadata": {},
   "outputs": [],
   "source": []
  }
 ],
 "metadata": {
  "kernelspec": {
   "display_name": "Python 3 (ipykernel)",
   "language": "python",
   "name": "python3"
  },
  "language_info": {
   "codemirror_mode": {
    "name": "ipython",
    "version": 3
   },
   "file_extension": ".py",
   "mimetype": "text/x-python",
   "name": "python",
   "nbconvert_exporter": "python",
   "pygments_lexer": "ipython3",
   "version": "3.10.6"
  }
 },
 "nbformat": 4,
 "nbformat_minor": 5
}
