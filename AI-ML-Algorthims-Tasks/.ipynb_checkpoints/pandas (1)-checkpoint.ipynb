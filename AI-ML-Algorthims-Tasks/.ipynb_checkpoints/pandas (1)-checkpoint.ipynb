{
 "cells": [
  {
   "cell_type": "markdown",
   "metadata": {
    "id": "mP-F1M9R7mFQ"
   },
   "source": []
  },
  {
   "cell_type": "markdown",
   "metadata": {
    "id": "5Ry0Yfxi7nkJ"
   },
   "source": [
    "**Introduction to Pandas**\n"
   ]
  },
  {
   "cell_type": "markdown",
   "metadata": {
    "id": "kNE2gdQW7k8z"
   },
   "source": []
  },
  {
   "cell_type": "code",
   "execution_count": null,
   "metadata": {
    "id": "x_e54BhmMQF_"
   },
   "outputs": [],
   "source": [
    "import pandas as pd"
   ]
  },
  {
   "cell_type": "code",
   "execution_count": null,
   "metadata": {
    "colab": {
     "base_uri": "https://localhost:8080/",
     "height": 143
    },
    "id": "tPRdBYzvOOjX",
    "outputId": "9201a982-804d-43f0-95d3-a38bbf075083"
   },
   "outputs": [
    {
     "data": {
      "text/html": [
       "\n",
       "  <div id=\"df-b09ff8b7-5fb7-4fae-9019-6cf63d525c1d\">\n",
       "    <div class=\"colab-df-container\">\n",
       "      <div>\n",
       "<style scoped>\n",
       "    .dataframe tbody tr th:only-of-type {\n",
       "        vertical-align: middle;\n",
       "    }\n",
       "\n",
       "    .dataframe tbody tr th {\n",
       "        vertical-align: top;\n",
       "    }\n",
       "\n",
       "    .dataframe thead th {\n",
       "        text-align: right;\n",
       "    }\n",
       "</style>\n",
       "<table border=\"1\" class=\"dataframe\">\n",
       "  <thead>\n",
       "    <tr style=\"text-align: right;\">\n",
       "      <th></th>\n",
       "      <th>names</th>\n",
       "      <th>Age</th>\n",
       "    </tr>\n",
       "  </thead>\n",
       "  <tbody>\n",
       "    <tr>\n",
       "      <th>0</th>\n",
       "      <td>Gumbal</td>\n",
       "      <td>10</td>\n",
       "    </tr>\n",
       "    <tr>\n",
       "      <th>1</th>\n",
       "      <td>Drawin</td>\n",
       "      <td>12</td>\n",
       "    </tr>\n",
       "    <tr>\n",
       "      <th>2</th>\n",
       "      <td>Anais</td>\n",
       "      <td>18</td>\n",
       "    </tr>\n",
       "  </tbody>\n",
       "</table>\n",
       "</div>\n",
       "      <button class=\"colab-df-convert\" onclick=\"convertToInteractive('df-b09ff8b7-5fb7-4fae-9019-6cf63d525c1d')\"\n",
       "              title=\"Convert this dataframe to an interactive table.\"\n",
       "              style=\"display:none;\">\n",
       "        \n",
       "  <svg xmlns=\"http://www.w3.org/2000/svg\" height=\"24px\"viewBox=\"0 0 24 24\"\n",
       "       width=\"24px\">\n",
       "    <path d=\"M0 0h24v24H0V0z\" fill=\"none\"/>\n",
       "    <path d=\"M18.56 5.44l.94 2.06.94-2.06 2.06-.94-2.06-.94-.94-2.06-.94 2.06-2.06.94zm-11 1L8.5 8.5l.94-2.06 2.06-.94-2.06-.94L8.5 2.5l-.94 2.06-2.06.94zm10 10l.94 2.06.94-2.06 2.06-.94-2.06-.94-.94-2.06-.94 2.06-2.06.94z\"/><path d=\"M17.41 7.96l-1.37-1.37c-.4-.4-.92-.59-1.43-.59-.52 0-1.04.2-1.43.59L10.3 9.45l-7.72 7.72c-.78.78-.78 2.05 0 2.83L4 21.41c.39.39.9.59 1.41.59.51 0 1.02-.2 1.41-.59l7.78-7.78 2.81-2.81c.8-.78.8-2.07 0-2.86zM5.41 20L4 18.59l7.72-7.72 1.47 1.35L5.41 20z\"/>\n",
       "  </svg>\n",
       "      </button>\n",
       "      \n",
       "  <style>\n",
       "    .colab-df-container {\n",
       "      display:flex;\n",
       "      flex-wrap:wrap;\n",
       "      gap: 12px;\n",
       "    }\n",
       "\n",
       "    .colab-df-convert {\n",
       "      background-color: #E8F0FE;\n",
       "      border: none;\n",
       "      border-radius: 50%;\n",
       "      cursor: pointer;\n",
       "      display: none;\n",
       "      fill: #1967D2;\n",
       "      height: 32px;\n",
       "      padding: 0 0 0 0;\n",
       "      width: 32px;\n",
       "    }\n",
       "\n",
       "    .colab-df-convert:hover {\n",
       "      background-color: #E2EBFA;\n",
       "      box-shadow: 0px 1px 2px rgba(60, 64, 67, 0.3), 0px 1px 3px 1px rgba(60, 64, 67, 0.15);\n",
       "      fill: #174EA6;\n",
       "    }\n",
       "\n",
       "    [theme=dark] .colab-df-convert {\n",
       "      background-color: #3B4455;\n",
       "      fill: #D2E3FC;\n",
       "    }\n",
       "\n",
       "    [theme=dark] .colab-df-convert:hover {\n",
       "      background-color: #434B5C;\n",
       "      box-shadow: 0px 1px 3px 1px rgba(0, 0, 0, 0.15);\n",
       "      filter: drop-shadow(0px 1px 2px rgba(0, 0, 0, 0.3));\n",
       "      fill: #FFFFFF;\n",
       "    }\n",
       "  </style>\n",
       "\n",
       "      <script>\n",
       "        const buttonEl =\n",
       "          document.querySelector('#df-b09ff8b7-5fb7-4fae-9019-6cf63d525c1d button.colab-df-convert');\n",
       "        buttonEl.style.display =\n",
       "          google.colab.kernel.accessAllowed ? 'block' : 'none';\n",
       "\n",
       "        async function convertToInteractive(key) {\n",
       "          const element = document.querySelector('#df-b09ff8b7-5fb7-4fae-9019-6cf63d525c1d');\n",
       "          const dataTable =\n",
       "            await google.colab.kernel.invokeFunction('convertToInteractive',\n",
       "                                                     [key], {});\n",
       "          if (!dataTable) return;\n",
       "\n",
       "          const docLinkHtml = 'Like what you see? Visit the ' +\n",
       "            '<a target=\"_blank\" href=https://colab.research.google.com/notebooks/data_table.ipynb>data table notebook</a>'\n",
       "            + ' to learn more about interactive tables.';\n",
       "          element.innerHTML = '';\n",
       "          dataTable['output_type'] = 'display_data';\n",
       "          await google.colab.output.renderOutput(dataTable, element);\n",
       "          const docLink = document.createElement('div');\n",
       "          docLink.innerHTML = docLinkHtml;\n",
       "          element.appendChild(docLink);\n",
       "        }\n",
       "      </script>\n",
       "    </div>\n",
       "  </div>\n",
       "  "
      ],
      "text/plain": [
       "    names  Age\n",
       "0  Gumbal   10\n",
       "1  Drawin   12\n",
       "2   Anais   18"
      ]
     },
     "execution_count": 4,
     "metadata": {},
     "output_type": "execute_result"
    }
   ],
   "source": [
    "# creating a DataFrame\n",
    "\n",
    "pd.DataFrame({'names':[\"Gumbal\",\"Drawin\",\"Anais\"],'Age':[10,12,18]})"
   ]
  },
  {
   "cell_type": "code",
   "execution_count": null,
   "metadata": {
    "colab": {
     "base_uri": "https://localhost:8080/"
    },
    "id": "hrNMGope9YOs",
    "outputId": "778c3959-5ca9-4344-8273-1d1cf141eecd"
   },
   "outputs": [
    {
     "data": {
      "text/plain": [
       "0    1\n",
       "1    2\n",
       "2    3\n",
       "3    4\n",
       "4    5\n",
       "dtype: int64"
      ]
     },
     "execution_count": 5,
     "metadata": {},
     "output_type": "execute_result"
    }
   ],
   "source": [
    "# creating a Series\n",
    "\n",
    "pd.Series([1,2,3,4,5])"
   ]
  },
  {
   "cell_type": "code",
   "execution_count": null,
   "metadata": {
    "id": "4y_6GmV591LE"
   },
   "outputs": [],
   "source": [
    "sales = pd.Series([30,12,55],index=['day 1','day 2','day 3'],name='Product A')\n"
   ]
  },
  {
   "cell_type": "code",
   "execution_count": null,
   "metadata": {
    "colab": {
     "base_uri": "https://localhost:8080/"
    },
    "id": "DMR7OrWu-1m2",
    "outputId": "f4c18af0-7541-41e2-9c58-6aa6bf54404d"
   },
   "outputs": [
    {
     "data": {
      "text/plain": [
       "day 1    30\n",
       "day 2    12\n",
       "day 3    55\n",
       "Name: Product A, dtype: int64"
      ]
     },
     "execution_count": 7,
     "metadata": {},
     "output_type": "execute_result"
    }
   ],
   "source": [
    "\n",
    "sales"
   ]
  },
  {
   "cell_type": "code",
   "execution_count": null,
   "metadata": {
    "colab": {
     "base_uri": "https://localhost:8080/",
     "height": 143
    },
    "id": "Pm_hG1US-9Gt",
    "outputId": "db41b9df-b8d5-4da2-fd05-29df4c854c6a"
   },
   "outputs": [
    {
     "data": {
      "text/html": [
       "\n",
       "  <div id=\"df-8e038984-cd55-441d-b416-05fc7f60100f\">\n",
       "    <div class=\"colab-df-container\">\n",
       "      <div>\n",
       "<style scoped>\n",
       "    .dataframe tbody tr th:only-of-type {\n",
       "        vertical-align: middle;\n",
       "    }\n",
       "\n",
       "    .dataframe tbody tr th {\n",
       "        vertical-align: top;\n",
       "    }\n",
       "\n",
       "    .dataframe thead th {\n",
       "        text-align: right;\n",
       "    }\n",
       "</style>\n",
       "<table border=\"1\" class=\"dataframe\">\n",
       "  <thead>\n",
       "    <tr style=\"text-align: right;\">\n",
       "      <th></th>\n",
       "      <th>Product A</th>\n",
       "    </tr>\n",
       "  </thead>\n",
       "  <tbody>\n",
       "    <tr>\n",
       "      <th>day 1</th>\n",
       "      <td>30</td>\n",
       "    </tr>\n",
       "    <tr>\n",
       "      <th>day 2</th>\n",
       "      <td>12</td>\n",
       "    </tr>\n",
       "    <tr>\n",
       "      <th>day 3</th>\n",
       "      <td>55</td>\n",
       "    </tr>\n",
       "  </tbody>\n",
       "</table>\n",
       "</div>\n",
       "      <button class=\"colab-df-convert\" onclick=\"convertToInteractive('df-8e038984-cd55-441d-b416-05fc7f60100f')\"\n",
       "              title=\"Convert this dataframe to an interactive table.\"\n",
       "              style=\"display:none;\">\n",
       "        \n",
       "  <svg xmlns=\"http://www.w3.org/2000/svg\" height=\"24px\"viewBox=\"0 0 24 24\"\n",
       "       width=\"24px\">\n",
       "    <path d=\"M0 0h24v24H0V0z\" fill=\"none\"/>\n",
       "    <path d=\"M18.56 5.44l.94 2.06.94-2.06 2.06-.94-2.06-.94-.94-2.06-.94 2.06-2.06.94zm-11 1L8.5 8.5l.94-2.06 2.06-.94-2.06-.94L8.5 2.5l-.94 2.06-2.06.94zm10 10l.94 2.06.94-2.06 2.06-.94-2.06-.94-.94-2.06-.94 2.06-2.06.94z\"/><path d=\"M17.41 7.96l-1.37-1.37c-.4-.4-.92-.59-1.43-.59-.52 0-1.04.2-1.43.59L10.3 9.45l-7.72 7.72c-.78.78-.78 2.05 0 2.83L4 21.41c.39.39.9.59 1.41.59.51 0 1.02-.2 1.41-.59l7.78-7.78 2.81-2.81c.8-.78.8-2.07 0-2.86zM5.41 20L4 18.59l7.72-7.72 1.47 1.35L5.41 20z\"/>\n",
       "  </svg>\n",
       "      </button>\n",
       "      \n",
       "  <style>\n",
       "    .colab-df-container {\n",
       "      display:flex;\n",
       "      flex-wrap:wrap;\n",
       "      gap: 12px;\n",
       "    }\n",
       "\n",
       "    .colab-df-convert {\n",
       "      background-color: #E8F0FE;\n",
       "      border: none;\n",
       "      border-radius: 50%;\n",
       "      cursor: pointer;\n",
       "      display: none;\n",
       "      fill: #1967D2;\n",
       "      height: 32px;\n",
       "      padding: 0 0 0 0;\n",
       "      width: 32px;\n",
       "    }\n",
       "\n",
       "    .colab-df-convert:hover {\n",
       "      background-color: #E2EBFA;\n",
       "      box-shadow: 0px 1px 2px rgba(60, 64, 67, 0.3), 0px 1px 3px 1px rgba(60, 64, 67, 0.15);\n",
       "      fill: #174EA6;\n",
       "    }\n",
       "\n",
       "    [theme=dark] .colab-df-convert {\n",
       "      background-color: #3B4455;\n",
       "      fill: #D2E3FC;\n",
       "    }\n",
       "\n",
       "    [theme=dark] .colab-df-convert:hover {\n",
       "      background-color: #434B5C;\n",
       "      box-shadow: 0px 1px 3px 1px rgba(0, 0, 0, 0.15);\n",
       "      filter: drop-shadow(0px 1px 2px rgba(0, 0, 0, 0.3));\n",
       "      fill: #FFFFFF;\n",
       "    }\n",
       "  </style>\n",
       "\n",
       "      <script>\n",
       "        const buttonEl =\n",
       "          document.querySelector('#df-8e038984-cd55-441d-b416-05fc7f60100f button.colab-df-convert');\n",
       "        buttonEl.style.display =\n",
       "          google.colab.kernel.accessAllowed ? 'block' : 'none';\n",
       "\n",
       "        async function convertToInteractive(key) {\n",
       "          const element = document.querySelector('#df-8e038984-cd55-441d-b416-05fc7f60100f');\n",
       "          const dataTable =\n",
       "            await google.colab.kernel.invokeFunction('convertToInteractive',\n",
       "                                                     [key], {});\n",
       "          if (!dataTable) return;\n",
       "\n",
       "          const docLinkHtml = 'Like what you see? Visit the ' +\n",
       "            '<a target=\"_blank\" href=https://colab.research.google.com/notebooks/data_table.ipynb>data table notebook</a>'\n",
       "            + ' to learn more about interactive tables.';\n",
       "          element.innerHTML = '';\n",
       "          dataTable['output_type'] = 'display_data';\n",
       "          await google.colab.output.renderOutput(dataTable, element);\n",
       "          const docLink = document.createElement('div');\n",
       "          docLink.innerHTML = docLinkHtml;\n",
       "          element.appendChild(docLink);\n",
       "        }\n",
       "      </script>\n",
       "    </div>\n",
       "  </div>\n",
       "  "
      ],
      "text/plain": [
       "       Product A\n",
       "day 1         30\n",
       "day 2         12\n",
       "day 3         55"
      ]
     },
     "execution_count": 8,
     "metadata": {},
     "output_type": "execute_result"
    }
   ],
   "source": [
    "sales.to_frame()   #to_frame method used to convert a series into DataFrame"
   ]
  },
  {
   "cell_type": "code",
   "execution_count": null,
   "metadata": {
    "colab": {
     "base_uri": "https://localhost:8080/",
     "height": 904
    },
    "id": "ebYEAQcx_9pY",
    "outputId": "7f899bba-9133-49bb-e4a5-010c7feab7ed"
   },
   "outputs": [
    {
     "data": {
      "text/html": [
       "\n",
       "  <div id=\"df-eb6127af-4ffb-4e4b-9aa6-6690f56cc9ac\">\n",
       "    <div class=\"colab-df-container\">\n",
       "      <div>\n",
       "<style scoped>\n",
       "    .dataframe tbody tr th:only-of-type {\n",
       "        vertical-align: middle;\n",
       "    }\n",
       "\n",
       "    .dataframe tbody tr th {\n",
       "        vertical-align: top;\n",
       "    }\n",
       "\n",
       "    .dataframe thead th {\n",
       "        text-align: right;\n",
       "    }\n",
       "</style>\n",
       "<table border=\"1\" class=\"dataframe\">\n",
       "  <thead>\n",
       "    <tr style=\"text-align: right;\">\n",
       "      <th></th>\n",
       "      <th>passenger_id</th>\n",
       "      <th>pclass</th>\n",
       "      <th>name</th>\n",
       "      <th>sex</th>\n",
       "      <th>age</th>\n",
       "      <th>sibsp</th>\n",
       "      <th>parch</th>\n",
       "      <th>ticket</th>\n",
       "      <th>fare</th>\n",
       "      <th>cabin</th>\n",
       "      <th>embarked</th>\n",
       "      <th>boat</th>\n",
       "      <th>body</th>\n",
       "      <th>home.dest</th>\n",
       "      <th>survived</th>\n",
       "    </tr>\n",
       "  </thead>\n",
       "  <tbody>\n",
       "    <tr>\n",
       "      <th>0</th>\n",
       "      <td>1216</td>\n",
       "      <td>3</td>\n",
       "      <td>Smyth, Miss. Julia</td>\n",
       "      <td>female</td>\n",
       "      <td>NaN</td>\n",
       "      <td>0</td>\n",
       "      <td>0</td>\n",
       "      <td>335432</td>\n",
       "      <td>7.7333</td>\n",
       "      <td>NaN</td>\n",
       "      <td>Q</td>\n",
       "      <td>13</td>\n",
       "      <td>NaN</td>\n",
       "      <td>NaN</td>\n",
       "      <td>1</td>\n",
       "    </tr>\n",
       "    <tr>\n",
       "      <th>1</th>\n",
       "      <td>699</td>\n",
       "      <td>3</td>\n",
       "      <td>Cacic, Mr. Luka</td>\n",
       "      <td>male</td>\n",
       "      <td>38.0</td>\n",
       "      <td>0</td>\n",
       "      <td>0</td>\n",
       "      <td>315089</td>\n",
       "      <td>8.6625</td>\n",
       "      <td>NaN</td>\n",
       "      <td>S</td>\n",
       "      <td>NaN</td>\n",
       "      <td>NaN</td>\n",
       "      <td>Croatia</td>\n",
       "      <td>0</td>\n",
       "    </tr>\n",
       "    <tr>\n",
       "      <th>2</th>\n",
       "      <td>1267</td>\n",
       "      <td>3</td>\n",
       "      <td>Van Impe, Mrs. Jean Baptiste (Rosalie Paula Go...</td>\n",
       "      <td>female</td>\n",
       "      <td>30.0</td>\n",
       "      <td>1</td>\n",
       "      <td>1</td>\n",
       "      <td>345773</td>\n",
       "      <td>24.1500</td>\n",
       "      <td>NaN</td>\n",
       "      <td>S</td>\n",
       "      <td>NaN</td>\n",
       "      <td>NaN</td>\n",
       "      <td>NaN</td>\n",
       "      <td>0</td>\n",
       "    </tr>\n",
       "    <tr>\n",
       "      <th>3</th>\n",
       "      <td>449</td>\n",
       "      <td>2</td>\n",
       "      <td>Hocking, Mrs. Elizabeth (Eliza Needs)</td>\n",
       "      <td>female</td>\n",
       "      <td>54.0</td>\n",
       "      <td>1</td>\n",
       "      <td>3</td>\n",
       "      <td>29105</td>\n",
       "      <td>23.0000</td>\n",
       "      <td>NaN</td>\n",
       "      <td>S</td>\n",
       "      <td>4</td>\n",
       "      <td>NaN</td>\n",
       "      <td>Cornwall / Akron, OH</td>\n",
       "      <td>1</td>\n",
       "    </tr>\n",
       "    <tr>\n",
       "      <th>4</th>\n",
       "      <td>576</td>\n",
       "      <td>2</td>\n",
       "      <td>Veal, Mr. James</td>\n",
       "      <td>male</td>\n",
       "      <td>40.0</td>\n",
       "      <td>0</td>\n",
       "      <td>0</td>\n",
       "      <td>28221</td>\n",
       "      <td>13.0000</td>\n",
       "      <td>NaN</td>\n",
       "      <td>S</td>\n",
       "      <td>NaN</td>\n",
       "      <td>NaN</td>\n",
       "      <td>Barre, Co Washington, VT</td>\n",
       "      <td>0</td>\n",
       "    </tr>\n",
       "    <tr>\n",
       "      <th>...</th>\n",
       "      <td>...</td>\n",
       "      <td>...</td>\n",
       "      <td>...</td>\n",
       "      <td>...</td>\n",
       "      <td>...</td>\n",
       "      <td>...</td>\n",
       "      <td>...</td>\n",
       "      <td>...</td>\n",
       "      <td>...</td>\n",
       "      <td>...</td>\n",
       "      <td>...</td>\n",
       "      <td>...</td>\n",
       "      <td>...</td>\n",
       "      <td>...</td>\n",
       "      <td>...</td>\n",
       "    </tr>\n",
       "    <tr>\n",
       "      <th>845</th>\n",
       "      <td>158</td>\n",
       "      <td>1</td>\n",
       "      <td>Hipkins, Mr. William Edward</td>\n",
       "      <td>male</td>\n",
       "      <td>55.0</td>\n",
       "      <td>0</td>\n",
       "      <td>0</td>\n",
       "      <td>680</td>\n",
       "      <td>50.0000</td>\n",
       "      <td>C39</td>\n",
       "      <td>S</td>\n",
       "      <td>NaN</td>\n",
       "      <td>NaN</td>\n",
       "      <td>London / Birmingham</td>\n",
       "      <td>0</td>\n",
       "    </tr>\n",
       "    <tr>\n",
       "      <th>846</th>\n",
       "      <td>174</td>\n",
       "      <td>1</td>\n",
       "      <td>Kent, Mr. Edward Austin</td>\n",
       "      <td>male</td>\n",
       "      <td>58.0</td>\n",
       "      <td>0</td>\n",
       "      <td>0</td>\n",
       "      <td>11771</td>\n",
       "      <td>29.7000</td>\n",
       "      <td>B37</td>\n",
       "      <td>C</td>\n",
       "      <td>NaN</td>\n",
       "      <td>258.0</td>\n",
       "      <td>Buffalo, NY</td>\n",
       "      <td>0</td>\n",
       "    </tr>\n",
       "    <tr>\n",
       "      <th>847</th>\n",
       "      <td>467</td>\n",
       "      <td>2</td>\n",
       "      <td>Kantor, Mrs. Sinai (Miriam Sternin)</td>\n",
       "      <td>female</td>\n",
       "      <td>24.0</td>\n",
       "      <td>1</td>\n",
       "      <td>0</td>\n",
       "      <td>244367</td>\n",
       "      <td>26.0000</td>\n",
       "      <td>NaN</td>\n",
       "      <td>S</td>\n",
       "      <td>12</td>\n",
       "      <td>NaN</td>\n",
       "      <td>Moscow / Bronx, NY</td>\n",
       "      <td>1</td>\n",
       "    </tr>\n",
       "    <tr>\n",
       "      <th>848</th>\n",
       "      <td>1112</td>\n",
       "      <td>3</td>\n",
       "      <td>Peacock, Miss. Treasteall</td>\n",
       "      <td>female</td>\n",
       "      <td>3.0</td>\n",
       "      <td>1</td>\n",
       "      <td>1</td>\n",
       "      <td>SOTON/O.Q. 3101315</td>\n",
       "      <td>13.7750</td>\n",
       "      <td>NaN</td>\n",
       "      <td>S</td>\n",
       "      <td>NaN</td>\n",
       "      <td>NaN</td>\n",
       "      <td>NaN</td>\n",
       "      <td>0</td>\n",
       "    </tr>\n",
       "    <tr>\n",
       "      <th>849</th>\n",
       "      <td>425</td>\n",
       "      <td>2</td>\n",
       "      <td>Greenberg, Mr. Samuel</td>\n",
       "      <td>male</td>\n",
       "      <td>52.0</td>\n",
       "      <td>0</td>\n",
       "      <td>0</td>\n",
       "      <td>250647</td>\n",
       "      <td>13.0000</td>\n",
       "      <td>NaN</td>\n",
       "      <td>S</td>\n",
       "      <td>NaN</td>\n",
       "      <td>19.0</td>\n",
       "      <td>Bronx, NY</td>\n",
       "      <td>0</td>\n",
       "    </tr>\n",
       "  </tbody>\n",
       "</table>\n",
       "<p>850 rows × 15 columns</p>\n",
       "</div>\n",
       "      <button class=\"colab-df-convert\" onclick=\"convertToInteractive('df-eb6127af-4ffb-4e4b-9aa6-6690f56cc9ac')\"\n",
       "              title=\"Convert this dataframe to an interactive table.\"\n",
       "              style=\"display:none;\">\n",
       "        \n",
       "  <svg xmlns=\"http://www.w3.org/2000/svg\" height=\"24px\"viewBox=\"0 0 24 24\"\n",
       "       width=\"24px\">\n",
       "    <path d=\"M0 0h24v24H0V0z\" fill=\"none\"/>\n",
       "    <path d=\"M18.56 5.44l.94 2.06.94-2.06 2.06-.94-2.06-.94-.94-2.06-.94 2.06-2.06.94zm-11 1L8.5 8.5l.94-2.06 2.06-.94-2.06-.94L8.5 2.5l-.94 2.06-2.06.94zm10 10l.94 2.06.94-2.06 2.06-.94-2.06-.94-.94-2.06-.94 2.06-2.06.94z\"/><path d=\"M17.41 7.96l-1.37-1.37c-.4-.4-.92-.59-1.43-.59-.52 0-1.04.2-1.43.59L10.3 9.45l-7.72 7.72c-.78.78-.78 2.05 0 2.83L4 21.41c.39.39.9.59 1.41.59.51 0 1.02-.2 1.41-.59l7.78-7.78 2.81-2.81c.8-.78.8-2.07 0-2.86zM5.41 20L4 18.59l7.72-7.72 1.47 1.35L5.41 20z\"/>\n",
       "  </svg>\n",
       "      </button>\n",
       "      \n",
       "  <style>\n",
       "    .colab-df-container {\n",
       "      display:flex;\n",
       "      flex-wrap:wrap;\n",
       "      gap: 12px;\n",
       "    }\n",
       "\n",
       "    .colab-df-convert {\n",
       "      background-color: #E8F0FE;\n",
       "      border: none;\n",
       "      border-radius: 50%;\n",
       "      cursor: pointer;\n",
       "      display: none;\n",
       "      fill: #1967D2;\n",
       "      height: 32px;\n",
       "      padding: 0 0 0 0;\n",
       "      width: 32px;\n",
       "    }\n",
       "\n",
       "    .colab-df-convert:hover {\n",
       "      background-color: #E2EBFA;\n",
       "      box-shadow: 0px 1px 2px rgba(60, 64, 67, 0.3), 0px 1px 3px 1px rgba(60, 64, 67, 0.15);\n",
       "      fill: #174EA6;\n",
       "    }\n",
       "\n",
       "    [theme=dark] .colab-df-convert {\n",
       "      background-color: #3B4455;\n",
       "      fill: #D2E3FC;\n",
       "    }\n",
       "\n",
       "    [theme=dark] .colab-df-convert:hover {\n",
       "      background-color: #434B5C;\n",
       "      box-shadow: 0px 1px 3px 1px rgba(0, 0, 0, 0.15);\n",
       "      filter: drop-shadow(0px 1px 2px rgba(0, 0, 0, 0.3));\n",
       "      fill: #FFFFFF;\n",
       "    }\n",
       "  </style>\n",
       "\n",
       "      <script>\n",
       "        const buttonEl =\n",
       "          document.querySelector('#df-eb6127af-4ffb-4e4b-9aa6-6690f56cc9ac button.colab-df-convert');\n",
       "        buttonEl.style.display =\n",
       "          google.colab.kernel.accessAllowed ? 'block' : 'none';\n",
       "\n",
       "        async function convertToInteractive(key) {\n",
       "          const element = document.querySelector('#df-eb6127af-4ffb-4e4b-9aa6-6690f56cc9ac');\n",
       "          const dataTable =\n",
       "            await google.colab.kernel.invokeFunction('convertToInteractive',\n",
       "                                                     [key], {});\n",
       "          if (!dataTable) return;\n",
       "\n",
       "          const docLinkHtml = 'Like what you see? Visit the ' +\n",
       "            '<a target=\"_blank\" href=https://colab.research.google.com/notebooks/data_table.ipynb>data table notebook</a>'\n",
       "            + ' to learn more about interactive tables.';\n",
       "          element.innerHTML = '';\n",
       "          dataTable['output_type'] = 'display_data';\n",
       "          await google.colab.output.renderOutput(dataTable, element);\n",
       "          const docLink = document.createElement('div');\n",
       "          docLink.innerHTML = docLinkHtml;\n",
       "          element.appendChild(docLink);\n",
       "        }\n",
       "      </script>\n",
       "    </div>\n",
       "  </div>\n",
       "  "
      ],
      "text/plain": [
       "     passenger_id  pclass                                               name  \\\n",
       "0            1216       3                                 Smyth, Miss. Julia   \n",
       "1             699       3                                    Cacic, Mr. Luka   \n",
       "2            1267       3  Van Impe, Mrs. Jean Baptiste (Rosalie Paula Go...   \n",
       "3             449       2              Hocking, Mrs. Elizabeth (Eliza Needs)   \n",
       "4             576       2                                    Veal, Mr. James   \n",
       "..            ...     ...                                                ...   \n",
       "845           158       1                        Hipkins, Mr. William Edward   \n",
       "846           174       1                            Kent, Mr. Edward Austin   \n",
       "847           467       2                Kantor, Mrs. Sinai (Miriam Sternin)   \n",
       "848          1112       3                          Peacock, Miss. Treasteall   \n",
       "849           425       2                              Greenberg, Mr. Samuel   \n",
       "\n",
       "        sex   age  sibsp  parch              ticket     fare cabin embarked  \\\n",
       "0    female   NaN      0      0              335432   7.7333   NaN        Q   \n",
       "1      male  38.0      0      0              315089   8.6625   NaN        S   \n",
       "2    female  30.0      1      1              345773  24.1500   NaN        S   \n",
       "3    female  54.0      1      3               29105  23.0000   NaN        S   \n",
       "4      male  40.0      0      0               28221  13.0000   NaN        S   \n",
       "..      ...   ...    ...    ...                 ...      ...   ...      ...   \n",
       "845    male  55.0      0      0                 680  50.0000   C39        S   \n",
       "846    male  58.0      0      0               11771  29.7000   B37        C   \n",
       "847  female  24.0      1      0              244367  26.0000   NaN        S   \n",
       "848  female   3.0      1      1  SOTON/O.Q. 3101315  13.7750   NaN        S   \n",
       "849    male  52.0      0      0              250647  13.0000   NaN        S   \n",
       "\n",
       "    boat   body                 home.dest  survived  \n",
       "0     13    NaN                       NaN         1  \n",
       "1    NaN    NaN                   Croatia         0  \n",
       "2    NaN    NaN                       NaN         0  \n",
       "3      4    NaN      Cornwall / Akron, OH         1  \n",
       "4    NaN    NaN  Barre, Co Washington, VT         0  \n",
       "..   ...    ...                       ...       ...  \n",
       "845  NaN    NaN       London / Birmingham         0  \n",
       "846  NaN  258.0               Buffalo, NY         0  \n",
       "847   12    NaN        Moscow / Bronx, NY         1  \n",
       "848  NaN    NaN                       NaN         0  \n",
       "849  NaN   19.0                 Bronx, NY         0  \n",
       "\n",
       "[850 rows x 15 columns]"
      ]
     },
     "execution_count": 9,
     "metadata": {},
     "output_type": "execute_result"
    }
   ],
   "source": [
    "data = pd.read_csv('/content/drive/MyDrive/titanic_train.csv')\n",
    "data"
   ]
  },
  {
   "cell_type": "code",
   "execution_count": null,
   "metadata": {
    "colab": {
     "base_uri": "https://localhost:8080/"
    },
    "id": "mxDqrB6YBDNI",
    "outputId": "d8422d29-50c9-4215-f162-5daf7f6cb9d1"
   },
   "outputs": [
    {
     "name": "stdout",
     "output_type": "stream",
     "text": [
      "(850, 15)\n"
     ]
    }
   ],
   "source": [
    "# print the shape of data\n",
    "\n",
    "print(data.shape)"
   ]
  },
  {
   "cell_type": "code",
   "execution_count": null,
   "metadata": {
    "colab": {
     "base_uri": "https://localhost:8080/"
    },
    "id": "IlkjzEoHDkvS",
    "outputId": "3af5a9ea-eeeb-4806-94fd-c851d1d48854"
   },
   "outputs": [
    {
     "name": "stdout",
     "output_type": "stream",
     "text": [
      "   passenger_id  pclass                                               name  \\\n",
      "0          1216       3                                 Smyth, Miss. Julia   \n",
      "1           699       3                                    Cacic, Mr. Luka   \n",
      "2          1267       3  Van Impe, Mrs. Jean Baptiste (Rosalie Paula Go...   \n",
      "3           449       2              Hocking, Mrs. Elizabeth (Eliza Needs)   \n",
      "4           576       2                                    Veal, Mr. James   \n",
      "\n",
      "      sex   age  sibsp  parch  ticket     fare cabin embarked boat  body  \\\n",
      "0  female   NaN      0      0  335432   7.7333   NaN        Q   13   NaN   \n",
      "1    male  38.0      0      0  315089   8.6625   NaN        S  NaN   NaN   \n",
      "2  female  30.0      1      1  345773  24.1500   NaN        S  NaN   NaN   \n",
      "3  female  54.0      1      3   29105  23.0000   NaN        S    4   NaN   \n",
      "4    male  40.0      0      0   28221  13.0000   NaN        S  NaN   NaN   \n",
      "\n",
      "                  home.dest  survived  \n",
      "0                       NaN         1  \n",
      "1                   Croatia         0  \n",
      "2                       NaN         0  \n",
      "3      Cornwall / Akron, OH         1  \n",
      "4  Barre, Co Washington, VT         0  \n"
     ]
    }
   ],
   "source": [
    "#  print the first five rows of data\n",
    "\n",
    "print(data.head())"
   ]
  },
  {
   "cell_type": "code",
   "execution_count": null,
   "metadata": {
    "colab": {
     "base_uri": "https://localhost:8080/"
    },
    "id": "EIOafxZlDuUl",
    "outputId": "65c92196-85b9-4423-e8ea-30cc67fd3f36"
   },
   "outputs": [
    {
     "name": "stdout",
     "output_type": "stream",
     "text": [
      "<class 'pandas.core.frame.DataFrame'>\n",
      "RangeIndex: 850 entries, 0 to 849\n",
      "Data columns (total 15 columns):\n",
      " #   Column        Non-Null Count  Dtype  \n",
      "---  ------        --------------  -----  \n",
      " 0   passenger_id  850 non-null    int64  \n",
      " 1   pclass        850 non-null    int64  \n",
      " 2   name          850 non-null    object \n",
      " 3   sex           850 non-null    object \n",
      " 4   age           676 non-null    float64\n",
      " 5   sibsp         850 non-null    int64  \n",
      " 6   parch         850 non-null    int64  \n",
      " 7   ticket        850 non-null    object \n",
      " 8   fare          849 non-null    float64\n",
      " 9   cabin         191 non-null    object \n",
      " 10  embarked      849 non-null    object \n",
      " 11  boat          308 non-null    object \n",
      " 12  body          73 non-null     float64\n",
      " 13  home.dest     464 non-null    object \n",
      " 14  survived      850 non-null    int64  \n",
      "dtypes: float64(3), int64(5), object(7)\n",
      "memory usage: 99.7+ KB\n",
      "None\n"
     ]
    }
   ],
   "source": [
    "# for detailed information about each and individual column\n",
    "\n",
    "print(data.info())"
   ]
  },
  {
   "cell_type": "code",
   "execution_count": null,
   "metadata": {
    "colab": {
     "base_uri": "https://localhost:8080/"
    },
    "id": "fGSQijXXENwA",
    "outputId": "e6e390d7-7071-422d-e16d-6b5a6f288e81"
   },
   "outputs": [
    {
     "name": "stdout",
     "output_type": "stream",
     "text": [
      "       passenger_id     pclass         age       sibsp       parch  \\\n",
      "count    850.000000  850.00000  676.000000  850.000000  850.000000   \n",
      "mean     662.816471    2.32000   29.519847    0.522353    0.382353   \n",
      "std      380.751936    0.83853   14.562243    1.112132    0.879511   \n",
      "min        1.000000    1.00000    0.166700    0.000000    0.000000   \n",
      "25%      332.250000    2.00000   20.000000    0.000000    0.000000   \n",
      "50%      676.500000    3.00000   28.000000    0.000000    0.000000   \n",
      "75%      992.250000    3.00000   37.000000    1.000000    0.000000   \n",
      "max     1307.000000    3.00000   80.000000    8.000000    9.000000   \n",
      "\n",
      "             fare        body    survived  \n",
      "count  849.000000   73.000000  850.000000  \n",
      "mean    34.012701  165.821918    0.368235  \n",
      "std     53.705779   99.068487    0.482610  \n",
      "min      0.000000    4.000000    0.000000  \n",
      "25%      7.895800   75.000000    0.000000  \n",
      "50%     14.108300  166.000000    0.000000  \n",
      "75%     31.000000  260.000000    1.000000  \n",
      "max    512.329200  328.000000    1.000000  \n"
     ]
    }
   ],
   "source": [
    "# print the description of data like count,mean,std ,quartile, max and min\n",
    "\n",
    "print(data.describe())"
   ]
  },
  {
   "cell_type": "markdown",
   "metadata": {
    "id": "f-y0Mx7HMVTG"
   },
   "source": [
    "**Some Basic Methods**"
   ]
  },
  {
   "cell_type": "code",
   "execution_count": null,
   "metadata": {
    "colab": {
     "base_uri": "https://localhost:8080/"
    },
    "id": "l4VlICUMMWOP",
    "outputId": "daf6b3e8-379c-41af-b2dd-886ec1bc25c9"
   },
   "outputs": [
    {
     "name": "stdout",
     "output_type": "stream",
     "text": [
      "   passenger_id  pclass                                               name  \\\n",
      "0          1216       3                                 Smyth, Miss. Julia   \n",
      "1           699       3                                    Cacic, Mr. Luka   \n",
      "2          1267       3  Van Impe, Mrs. Jean Baptiste (Rosalie Paula Go...   \n",
      "3           449       2              Hocking, Mrs. Elizabeth (Eliza Needs)   \n",
      "4           576       2                                    Veal, Mr. James   \n",
      "5          1083       3                           Olsen, Mr. Henry Margido   \n",
      "6           898       3                    Johnson, Mr. William Cahoone Jr   \n",
      "7           560       2                              Sinkkonen, Miss. Anna   \n",
      "8          1079       3                                 Ohman, Miss. Velin   \n",
      "9           908       3                           Jussila, Miss. Mari Aina   \n",
      "\n",
      "      sex   age  sibsp  parch  ticket     fare cabin embarked boat   body  \\\n",
      "0  female   NaN      0      0  335432   7.7333   NaN        Q   13    NaN   \n",
      "1    male  38.0      0      0  315089   8.6625   NaN        S  NaN    NaN   \n",
      "2  female  30.0      1      1  345773  24.1500   NaN        S  NaN    NaN   \n",
      "3  female  54.0      1      3   29105  23.0000   NaN        S    4    NaN   \n",
      "4    male  40.0      0      0   28221  13.0000   NaN        S  NaN    NaN   \n",
      "5    male  28.0      0      0  C 4001  22.5250   NaN        S  NaN  173.0   \n",
      "6    male  19.0      0      0    LINE   0.0000   NaN        S  NaN    NaN   \n",
      "7  female  30.0      0      0  250648  13.0000   NaN        S   10    NaN   \n",
      "8  female  22.0      0      0  347085   7.7750   NaN        S    C    NaN   \n",
      "9  female  21.0      1      0    4137   9.8250   NaN        S  NaN    NaN   \n",
      "\n",
      "                  home.dest  survived  \n",
      "0                       NaN         1  \n",
      "1                   Croatia         0  \n",
      "2                       NaN         0  \n",
      "3      Cornwall / Akron, OH         1  \n",
      "4  Barre, Co Washington, VT         0  \n",
      "5                       NaN         0  \n",
      "6                       NaN         0  \n",
      "7  Finland / Washington, DC         1  \n",
      "8                       NaN         1  \n",
      "9                       NaN         0  \n"
     ]
    }
   ],
   "source": [
    "# print top few rows\n",
    "\n",
    "print(data.head(10))"
   ]
  },
  {
   "cell_type": "code",
   "execution_count": null,
   "metadata": {
    "colab": {
     "base_uri": "https://localhost:8080/"
    },
    "id": "rAhCCahqMlYZ",
    "outputId": "00f73395-bdec-446b-efa6-df7a27a83b64"
   },
   "outputs": [
    {
     "name": "stdout",
     "output_type": "stream",
     "text": [
      "     passenger_id  pclass                                 name     sex   age  \\\n",
      "845           158       1          Hipkins, Mr. William Edward    male  55.0   \n",
      "846           174       1              Kent, Mr. Edward Austin    male  58.0   \n",
      "847           467       2  Kantor, Mrs. Sinai (Miriam Sternin)  female  24.0   \n",
      "848          1112       3            Peacock, Miss. Treasteall  female   3.0   \n",
      "849           425       2                Greenberg, Mr. Samuel    male  52.0   \n",
      "\n",
      "     sibsp  parch              ticket    fare cabin embarked boat   body  \\\n",
      "845      0      0                 680  50.000   C39        S  NaN    NaN   \n",
      "846      0      0               11771  29.700   B37        C  NaN  258.0   \n",
      "847      1      0              244367  26.000   NaN        S   12    NaN   \n",
      "848      1      1  SOTON/O.Q. 3101315  13.775   NaN        S  NaN    NaN   \n",
      "849      0      0              250647  13.000   NaN        S  NaN   19.0   \n",
      "\n",
      "               home.dest  survived  \n",
      "845  London / Birmingham         0  \n",
      "846          Buffalo, NY         0  \n",
      "847   Moscow / Bronx, NY         1  \n",
      "848                  NaN         0  \n",
      "849            Bronx, NY         0  \n"
     ]
    }
   ],
   "source": [
    "# print bottom 5 rows\n",
    "print(data.tail())"
   ]
  },
  {
   "cell_type": "code",
   "execution_count": null,
   "metadata": {
    "colab": {
     "base_uri": "https://localhost:8080/"
    },
    "id": "K8Wc-965M5Lz",
    "outputId": "01306da1-01e7-45fa-c717-95855303b96e"
   },
   "outputs": [
    {
     "name": "stdout",
     "output_type": "stream",
     "text": [
      "[[1216 3 'Smyth, Miss. Julia' ... nan nan 1]\n",
      " [699 3 'Cacic, Mr. Luka' ... nan 'Croatia' 0]\n",
      " [1267 3 'Van Impe, Mrs. Jean Baptiste (Rosalie Paula Govaert)' ... nan\n",
      "  nan 0]\n",
      " ...\n",
      " [467 2 'Kantor, Mrs. Sinai (Miriam Sternin)' ... nan\n",
      "  'Moscow / Bronx, NY' 1]\n",
      " [1112 3 'Peacock, Miss. Treasteall' ... nan nan 0]\n",
      " [425 2 'Greenberg, Mr. Samuel' ... 19.0 'Bronx, NY' 0]]\n"
     ]
    }
   ],
   "source": [
    "print(data.values)     #values command fetches and display individual rows"
   ]
  },
  {
   "cell_type": "code",
   "execution_count": null,
   "metadata": {
    "colab": {
     "base_uri": "https://localhost:8080/"
    },
    "id": "dfNLp4WbNOMn",
    "outputId": "834cedcf-7a94-44c3-d758-a9c0a59771ad"
   },
   "outputs": [
    {
     "name": "stdout",
     "output_type": "stream",
     "text": [
      "18.0000    32\n",
      "30.0000    30\n",
      "24.0000    29\n",
      "22.0000    28\n",
      "25.0000    26\n",
      "           ..\n",
      "80.0000     1\n",
      "0.4167      1\n",
      "22.5000     1\n",
      "40.5000     1\n",
      "76.0000     1\n",
      "Name: age, Length: 88, dtype: int64\n"
     ]
    }
   ],
   "source": [
    "# to see the list of unique values and how often they occur in dataset\n",
    "print(data.age.value_counts())   "
   ]
  },
  {
   "cell_type": "code",
   "execution_count": null,
   "metadata": {
    "colab": {
     "base_uri": "https://localhost:8080/"
    },
    "id": "zf6jjehGPIhG",
    "outputId": "bfd2622c-f783-4114-8a49-4dc7b310d381"
   },
   "outputs": [
    {
     "name": "stdout",
     "output_type": "stream",
     "text": [
      "male      551\n",
      "female    299\n",
      "Name: sex, dtype: int64\n",
      "male      0.648235\n",
      "female    0.351765\n",
      "Name: sex, dtype: float64\n",
      "3    478\n",
      "2    166\n",
      "1    206\n",
      "Name: pclass, dtype: int64\n",
      "3    0.562353\n",
      "1    0.242353\n",
      "2    0.195294\n",
      "Name: pclass, dtype: float64\n"
     ]
    }
   ],
   "source": [
    "# count the number of each gender\n",
    "print(data.sex.value_counts())  \n",
    "\n",
    "gender_per = data.sex.value_counts(normalize=True)      #in percentage form\n",
    "print(gender_per)\n",
    "\n",
    "# count the number of each class and unsort\n",
    "unsorted = data.pclass.value_counts(sort=False)\n",
    "print(unsorted)     \n",
    "\n",
    "\n",
    "# get the percentage of each class in  sorted \n",
    "gender_sorted = data.pclass.value_counts(sort=True , normalize=True)\n",
    "print(gender_sorted)"
   ]
  },
  {
   "cell_type": "code",
   "execution_count": null,
   "metadata": {
    "colab": {
     "base_uri": "https://localhost:8080/"
    },
    "id": "po0wq-TmQVoT",
    "outputId": "cff7af55-54b4-447e-c32e-acf0178c435d"
   },
   "outputs": [
    {
     "name": "stdout",
     "output_type": "stream",
     "text": [
      "Index(['passenger_id', 'pclass', 'name', 'sex', 'age', 'sibsp', 'parch',\n",
      "       'ticket', 'fare', 'cabin', 'embarked', 'boat', 'body', 'home.dest',\n",
      "       'survived'],\n",
      "      dtype='object')\n"
     ]
    }
   ],
   "source": [
    "# print the column index of Data\n",
    "\n",
    "print(data.columns)\n"
   ]
  },
  {
   "cell_type": "code",
   "execution_count": null,
   "metadata": {
    "colab": {
     "base_uri": "https://localhost:8080/"
    },
    "id": "Y71xarL9S0za",
    "outputId": "65bed96b-bf60-496d-a988-316037c1197e"
   },
   "outputs": [
    {
     "name": "stdout",
     "output_type": "stream",
     "text": [
      "RangeIndex(start=0, stop=850, step=1)\n"
     ]
    }
   ],
   "source": [
    "# print row index\n",
    "print(data.index)"
   ]
  },
  {
   "cell_type": "code",
   "execution_count": null,
   "metadata": {
    "colab": {
     "base_uri": "https://localhost:8080/",
     "height": 624
    },
    "id": "n6lwerr_S6lV",
    "outputId": "1bb6e9ee-177f-4ccd-c033-2ade971cfd46"
   },
   "outputs": [
    {
     "data": {
      "text/html": [
       "\n",
       "  <div id=\"df-1a73b5d0-e657-4980-bb3e-e9d28007f27c\">\n",
       "    <div class=\"colab-df-container\">\n",
       "      <div>\n",
       "<style scoped>\n",
       "    .dataframe tbody tr th:only-of-type {\n",
       "        vertical-align: middle;\n",
       "    }\n",
       "\n",
       "    .dataframe tbody tr th {\n",
       "        vertical-align: top;\n",
       "    }\n",
       "\n",
       "    .dataframe thead th {\n",
       "        text-align: right;\n",
       "    }\n",
       "</style>\n",
       "<table border=\"1\" class=\"dataframe\">\n",
       "  <thead>\n",
       "    <tr style=\"text-align: right;\">\n",
       "      <th></th>\n",
       "      <th>passenger_id</th>\n",
       "      <th>pclass</th>\n",
       "      <th>name</th>\n",
       "      <th>sex</th>\n",
       "      <th>age</th>\n",
       "      <th>sibsp</th>\n",
       "      <th>parch</th>\n",
       "      <th>ticket</th>\n",
       "      <th>fare</th>\n",
       "      <th>cabin</th>\n",
       "      <th>embarked</th>\n",
       "      <th>boat</th>\n",
       "      <th>body</th>\n",
       "      <th>home.dest</th>\n",
       "      <th>survived</th>\n",
       "    </tr>\n",
       "  </thead>\n",
       "  <tbody>\n",
       "    <tr>\n",
       "      <th>790</th>\n",
       "      <td>183</td>\n",
       "      <td>1</td>\n",
       "      <td>Lesurer, Mr. Gustave J</td>\n",
       "      <td>male</td>\n",
       "      <td>35.0</td>\n",
       "      <td>0</td>\n",
       "      <td>0</td>\n",
       "      <td>PC 17755</td>\n",
       "      <td>512.3292</td>\n",
       "      <td>B101</td>\n",
       "      <td>C</td>\n",
       "      <td>3</td>\n",
       "      <td>NaN</td>\n",
       "      <td>NaN</td>\n",
       "      <td>1</td>\n",
       "    </tr>\n",
       "    <tr>\n",
       "      <th>796</th>\n",
       "      <td>49</td>\n",
       "      <td>1</td>\n",
       "      <td>Cardeza, Mr. Thomas Drake Martinez</td>\n",
       "      <td>male</td>\n",
       "      <td>36.0</td>\n",
       "      <td>0</td>\n",
       "      <td>1</td>\n",
       "      <td>PC 17755</td>\n",
       "      <td>512.3292</td>\n",
       "      <td>B51 B53 B55</td>\n",
       "      <td>C</td>\n",
       "      <td>3</td>\n",
       "      <td>NaN</td>\n",
       "      <td>Austria-Hungary / Germantown, Philadelphia, PA</td>\n",
       "      <td>1</td>\n",
       "    </tr>\n",
       "    <tr>\n",
       "      <th>60</th>\n",
       "      <td>50</td>\n",
       "      <td>1</td>\n",
       "      <td>Cardeza, Mrs. James Warburton Martinez (Charlo...</td>\n",
       "      <td>female</td>\n",
       "      <td>58.0</td>\n",
       "      <td>0</td>\n",
       "      <td>1</td>\n",
       "      <td>PC 17755</td>\n",
       "      <td>512.3292</td>\n",
       "      <td>B51 B53 B55</td>\n",
       "      <td>C</td>\n",
       "      <td>3</td>\n",
       "      <td>NaN</td>\n",
       "      <td>Germantown, Philadelphia, PA</td>\n",
       "      <td>1</td>\n",
       "    </tr>\n",
       "    <tr>\n",
       "      <th>247</th>\n",
       "      <td>115</td>\n",
       "      <td>1</td>\n",
       "      <td>Fortune, Mr. Mark</td>\n",
       "      <td>male</td>\n",
       "      <td>64.0</td>\n",
       "      <td>1</td>\n",
       "      <td>4</td>\n",
       "      <td>19950</td>\n",
       "      <td>263.0000</td>\n",
       "      <td>C23 C25 C27</td>\n",
       "      <td>S</td>\n",
       "      <td>NaN</td>\n",
       "      <td>NaN</td>\n",
       "      <td>Winnipeg, MB</td>\n",
       "      <td>0</td>\n",
       "    </tr>\n",
       "    <tr>\n",
       "      <th>714</th>\n",
       "      <td>116</td>\n",
       "      <td>1</td>\n",
       "      <td>Fortune, Mrs. Mark (Mary McDougald)</td>\n",
       "      <td>female</td>\n",
       "      <td>60.0</td>\n",
       "      <td>1</td>\n",
       "      <td>4</td>\n",
       "      <td>19950</td>\n",
       "      <td>263.0000</td>\n",
       "      <td>C23 C25 C27</td>\n",
       "      <td>S</td>\n",
       "      <td>10</td>\n",
       "      <td>NaN</td>\n",
       "      <td>Winnipeg, MB</td>\n",
       "      <td>1</td>\n",
       "    </tr>\n",
       "    <tr>\n",
       "      <th>...</th>\n",
       "      <td>...</td>\n",
       "      <td>...</td>\n",
       "      <td>...</td>\n",
       "      <td>...</td>\n",
       "      <td>...</td>\n",
       "      <td>...</td>\n",
       "      <td>...</td>\n",
       "      <td>...</td>\n",
       "      <td>...</td>\n",
       "      <td>...</td>\n",
       "      <td>...</td>\n",
       "      <td>...</td>\n",
       "      <td>...</td>\n",
       "      <td>...</td>\n",
       "      <td>...</td>\n",
       "    </tr>\n",
       "    <tr>\n",
       "      <th>506</th>\n",
       "      <td>125</td>\n",
       "      <td>1</td>\n",
       "      <td>Fry, Mr. Richard</td>\n",
       "      <td>male</td>\n",
       "      <td>NaN</td>\n",
       "      <td>0</td>\n",
       "      <td>0</td>\n",
       "      <td>112058</td>\n",
       "      <td>0.0000</td>\n",
       "      <td>B102</td>\n",
       "      <td>S</td>\n",
       "      <td>NaN</td>\n",
       "      <td>NaN</td>\n",
       "      <td>NaN</td>\n",
       "      <td>0</td>\n",
       "    </tr>\n",
       "    <tr>\n",
       "      <th>95</th>\n",
       "      <td>150</td>\n",
       "      <td>1</td>\n",
       "      <td>Harrison, Mr. William</td>\n",
       "      <td>male</td>\n",
       "      <td>40.0</td>\n",
       "      <td>0</td>\n",
       "      <td>0</td>\n",
       "      <td>112059</td>\n",
       "      <td>0.0000</td>\n",
       "      <td>B94</td>\n",
       "      <td>S</td>\n",
       "      <td>NaN</td>\n",
       "      <td>110.0</td>\n",
       "      <td>NaN</td>\n",
       "      <td>0</td>\n",
       "    </tr>\n",
       "    <tr>\n",
       "      <th>6</th>\n",
       "      <td>898</td>\n",
       "      <td>3</td>\n",
       "      <td>Johnson, Mr. William Cahoone Jr</td>\n",
       "      <td>male</td>\n",
       "      <td>19.0</td>\n",
       "      <td>0</td>\n",
       "      <td>0</td>\n",
       "      <td>LINE</td>\n",
       "      <td>0.0000</td>\n",
       "      <td>NaN</td>\n",
       "      <td>S</td>\n",
       "      <td>NaN</td>\n",
       "      <td>NaN</td>\n",
       "      <td>NaN</td>\n",
       "      <td>0</td>\n",
       "    </tr>\n",
       "    <tr>\n",
       "      <th>346</th>\n",
       "      <td>234</td>\n",
       "      <td>1</td>\n",
       "      <td>Reuchlin, Jonkheer. John George</td>\n",
       "      <td>male</td>\n",
       "      <td>38.0</td>\n",
       "      <td>0</td>\n",
       "      <td>0</td>\n",
       "      <td>19972</td>\n",
       "      <td>0.0000</td>\n",
       "      <td>NaN</td>\n",
       "      <td>S</td>\n",
       "      <td>NaN</td>\n",
       "      <td>NaN</td>\n",
       "      <td>Rotterdam, Netherlands</td>\n",
       "      <td>0</td>\n",
       "    </tr>\n",
       "    <tr>\n",
       "      <th>416</th>\n",
       "      <td>1225</td>\n",
       "      <td>3</td>\n",
       "      <td>Storey, Mr. Thomas</td>\n",
       "      <td>male</td>\n",
       "      <td>60.5</td>\n",
       "      <td>0</td>\n",
       "      <td>0</td>\n",
       "      <td>3701</td>\n",
       "      <td>NaN</td>\n",
       "      <td>NaN</td>\n",
       "      <td>S</td>\n",
       "      <td>NaN</td>\n",
       "      <td>261.0</td>\n",
       "      <td>NaN</td>\n",
       "      <td>0</td>\n",
       "    </tr>\n",
       "  </tbody>\n",
       "</table>\n",
       "<p>850 rows × 15 columns</p>\n",
       "</div>\n",
       "      <button class=\"colab-df-convert\" onclick=\"convertToInteractive('df-1a73b5d0-e657-4980-bb3e-e9d28007f27c')\"\n",
       "              title=\"Convert this dataframe to an interactive table.\"\n",
       "              style=\"display:none;\">\n",
       "        \n",
       "  <svg xmlns=\"http://www.w3.org/2000/svg\" height=\"24px\"viewBox=\"0 0 24 24\"\n",
       "       width=\"24px\">\n",
       "    <path d=\"M0 0h24v24H0V0z\" fill=\"none\"/>\n",
       "    <path d=\"M18.56 5.44l.94 2.06.94-2.06 2.06-.94-2.06-.94-.94-2.06-.94 2.06-2.06.94zm-11 1L8.5 8.5l.94-2.06 2.06-.94-2.06-.94L8.5 2.5l-.94 2.06-2.06.94zm10 10l.94 2.06.94-2.06 2.06-.94-2.06-.94-.94-2.06-.94 2.06-2.06.94z\"/><path d=\"M17.41 7.96l-1.37-1.37c-.4-.4-.92-.59-1.43-.59-.52 0-1.04.2-1.43.59L10.3 9.45l-7.72 7.72c-.78.78-.78 2.05 0 2.83L4 21.41c.39.39.9.59 1.41.59.51 0 1.02-.2 1.41-.59l7.78-7.78 2.81-2.81c.8-.78.8-2.07 0-2.86zM5.41 20L4 18.59l7.72-7.72 1.47 1.35L5.41 20z\"/>\n",
       "  </svg>\n",
       "      </button>\n",
       "      \n",
       "  <style>\n",
       "    .colab-df-container {\n",
       "      display:flex;\n",
       "      flex-wrap:wrap;\n",
       "      gap: 12px;\n",
       "    }\n",
       "\n",
       "    .colab-df-convert {\n",
       "      background-color: #E8F0FE;\n",
       "      border: none;\n",
       "      border-radius: 50%;\n",
       "      cursor: pointer;\n",
       "      display: none;\n",
       "      fill: #1967D2;\n",
       "      height: 32px;\n",
       "      padding: 0 0 0 0;\n",
       "      width: 32px;\n",
       "    }\n",
       "\n",
       "    .colab-df-convert:hover {\n",
       "      background-color: #E2EBFA;\n",
       "      box-shadow: 0px 1px 2px rgba(60, 64, 67, 0.3), 0px 1px 3px 1px rgba(60, 64, 67, 0.15);\n",
       "      fill: #174EA6;\n",
       "    }\n",
       "\n",
       "    [theme=dark] .colab-df-convert {\n",
       "      background-color: #3B4455;\n",
       "      fill: #D2E3FC;\n",
       "    }\n",
       "\n",
       "    [theme=dark] .colab-df-convert:hover {\n",
       "      background-color: #434B5C;\n",
       "      box-shadow: 0px 1px 3px 1px rgba(0, 0, 0, 0.15);\n",
       "      filter: drop-shadow(0px 1px 2px rgba(0, 0, 0, 0.3));\n",
       "      fill: #FFFFFF;\n",
       "    }\n",
       "  </style>\n",
       "\n",
       "      <script>\n",
       "        const buttonEl =\n",
       "          document.querySelector('#df-1a73b5d0-e657-4980-bb3e-e9d28007f27c button.colab-df-convert');\n",
       "        buttonEl.style.display =\n",
       "          google.colab.kernel.accessAllowed ? 'block' : 'none';\n",
       "\n",
       "        async function convertToInteractive(key) {\n",
       "          const element = document.querySelector('#df-1a73b5d0-e657-4980-bb3e-e9d28007f27c');\n",
       "          const dataTable =\n",
       "            await google.colab.kernel.invokeFunction('convertToInteractive',\n",
       "                                                     [key], {});\n",
       "          if (!dataTable) return;\n",
       "\n",
       "          const docLinkHtml = 'Like what you see? Visit the ' +\n",
       "            '<a target=\"_blank\" href=https://colab.research.google.com/notebooks/data_table.ipynb>data table notebook</a>'\n",
       "            + ' to learn more about interactive tables.';\n",
       "          element.innerHTML = '';\n",
       "          dataTable['output_type'] = 'display_data';\n",
       "          await google.colab.output.renderOutput(dataTable, element);\n",
       "          const docLink = document.createElement('div');\n",
       "          docLink.innerHTML = docLinkHtml;\n",
       "          element.appendChild(docLink);\n",
       "        }\n",
       "      </script>\n",
       "    </div>\n",
       "  </div>\n",
       "  "
      ],
      "text/plain": [
       "     passenger_id  pclass                                               name  \\\n",
       "790           183       1                             Lesurer, Mr. Gustave J   \n",
       "796            49       1                 Cardeza, Mr. Thomas Drake Martinez   \n",
       "60             50       1  Cardeza, Mrs. James Warburton Martinez (Charlo...   \n",
       "247           115       1                                  Fortune, Mr. Mark   \n",
       "714           116       1                Fortune, Mrs. Mark (Mary McDougald)   \n",
       "..            ...     ...                                                ...   \n",
       "506           125       1                                   Fry, Mr. Richard   \n",
       "95            150       1                              Harrison, Mr. William   \n",
       "6             898       3                    Johnson, Mr. William Cahoone Jr   \n",
       "346           234       1                    Reuchlin, Jonkheer. John George   \n",
       "416          1225       3                                 Storey, Mr. Thomas   \n",
       "\n",
       "        sex   age  sibsp  parch    ticket      fare        cabin embarked  \\\n",
       "790    male  35.0      0      0  PC 17755  512.3292         B101        C   \n",
       "796    male  36.0      0      1  PC 17755  512.3292  B51 B53 B55        C   \n",
       "60   female  58.0      0      1  PC 17755  512.3292  B51 B53 B55        C   \n",
       "247    male  64.0      1      4     19950  263.0000  C23 C25 C27        S   \n",
       "714  female  60.0      1      4     19950  263.0000  C23 C25 C27        S   \n",
       "..      ...   ...    ...    ...       ...       ...          ...      ...   \n",
       "506    male   NaN      0      0    112058    0.0000         B102        S   \n",
       "95     male  40.0      0      0    112059    0.0000          B94        S   \n",
       "6      male  19.0      0      0      LINE    0.0000          NaN        S   \n",
       "346    male  38.0      0      0     19972    0.0000          NaN        S   \n",
       "416    male  60.5      0      0      3701       NaN          NaN        S   \n",
       "\n",
       "    boat   body                                       home.dest  survived  \n",
       "790    3    NaN                                             NaN         1  \n",
       "796    3    NaN  Austria-Hungary / Germantown, Philadelphia, PA         1  \n",
       "60     3    NaN                    Germantown, Philadelphia, PA         1  \n",
       "247  NaN    NaN                                    Winnipeg, MB         0  \n",
       "714   10    NaN                                    Winnipeg, MB         1  \n",
       "..   ...    ...                                             ...       ...  \n",
       "506  NaN    NaN                                             NaN         0  \n",
       "95   NaN  110.0                                             NaN         0  \n",
       "6    NaN    NaN                                             NaN         0  \n",
       "346  NaN    NaN                          Rotterdam, Netherlands         0  \n",
       "416  NaN  261.0                                             NaN         0  \n",
       "\n",
       "[850 rows x 15 columns]"
      ]
     },
     "execution_count": 39,
     "metadata": {},
     "output_type": "execute_result"
    }
   ],
   "source": [
    "# sort individual columns\n",
    "data.sort_values('fare',ascending=False)"
   ]
  },
  {
   "cell_type": "code",
   "execution_count": null,
   "metadata": {
    "colab": {
     "base_uri": "https://localhost:8080/"
    },
    "id": "m8TJ6UOrTr3Q",
    "outputId": "421d0000-3839-433a-bc6e-307fc13cd0fa"
   },
   "outputs": [
    {
     "name": "stdout",
     "output_type": "stream",
     "text": [
      "     passenger_id  pclass                               name     sex   age  \\\n",
      "47           1179       3              Sage, Mr. John George    male   NaN   \n",
      "79           1178       3           Sage, Mr. George John Jr    male   NaN   \n",
      "133          1180       3     Sage, Mrs. John (Annie Bullen)  female   NaN   \n",
      "167          1177       3                Sage, Mr. Frederick    male   NaN   \n",
      "329          1175       3            Sage, Miss. Stella Anna  female   NaN   \n",
      "430          1171       3        Sage, Master. William Henry    male  14.5   \n",
      "549          1172       3                    Sage, Miss. Ada  female   NaN   \n",
      "556          1173       3       Sage, Miss. Constance Gladys  female   NaN   \n",
      "567          1174       3  Sage, Miss. Dorothy Edith \"Dolly\"  female   NaN   \n",
      "720          1176       3           Sage, Mr. Douglas Bullen    male   NaN   \n",
      "176           949       3                     Lang, Mr. Fang    male  26.0   \n",
      "233           946       3                       Lam, Mr. Len    male   NaN   \n",
      "337           805       3                    Foo, Mr. Choong    male   NaN   \n",
      "435           972       3                      Ling, Mr. Lee    male  28.0   \n",
      "508           714       3                    Chip, Mr. Chang    male  32.0   \n",
      "\n",
      "     sibsp  parch    ticket     fare cabin embarked boat  body  \\\n",
      "47       1      9  CA. 2343  69.5500   NaN        S  NaN   NaN   \n",
      "79       8      2  CA. 2343  69.5500   NaN        S  NaN   NaN   \n",
      "133      1      9  CA. 2343  69.5500   NaN        S  NaN   NaN   \n",
      "167      8      2  CA. 2343  69.5500   NaN        S  NaN   NaN   \n",
      "329      8      2  CA. 2343  69.5500   NaN        S  NaN   NaN   \n",
      "430      8      2  CA. 2343  69.5500   NaN        S  NaN  67.0   \n",
      "549      8      2  CA. 2343  69.5500   NaN        S  NaN   NaN   \n",
      "556      8      2  CA. 2343  69.5500   NaN        S  NaN   NaN   \n",
      "567      8      2  CA. 2343  69.5500   NaN        S  NaN   NaN   \n",
      "720      8      2  CA. 2343  69.5500   NaN        S  NaN   NaN   \n",
      "176      0      0      1601  56.4958   NaN        S   14   NaN   \n",
      "233      0      0      1601  56.4958   NaN        S  NaN   NaN   \n",
      "337      0      0      1601  56.4958   NaN        S   13   NaN   \n",
      "435      0      0      1601  56.4958   NaN        S  NaN   NaN   \n",
      "508      0      0      1601  56.4958   NaN        S    C   NaN   \n",
      "\n",
      "                  home.dest  survived  \n",
      "47                      NaN         0  \n",
      "79                      NaN         0  \n",
      "133                     NaN         0  \n",
      "167                     NaN         0  \n",
      "329                     NaN         0  \n",
      "430                     NaN         0  \n",
      "549                     NaN         0  \n",
      "556                     NaN         0  \n",
      "567                     NaN         0  \n",
      "720                     NaN         0  \n",
      "176                     NaN         1  \n",
      "233                     NaN         0  \n",
      "337  Hong Kong New York, NY         1  \n",
      "435                     NaN         0  \n",
      "508  Hong Kong New York, NY         1  \n"
     ]
    }
   ],
   "source": [
    "# to sort two columns we use the list\n",
    "\n",
    "sorted = data.sort_values(['pclass','fare'], ascending=False)\n",
    "print(sorted.head(15))"
   ]
  },
  {
   "cell_type": "markdown",
   "metadata": {
    "id": "fSNN9y-wpApg"
   },
   "source": [
    "**Subsetting Columns**\n"
   ]
  },
  {
   "cell_type": "code",
   "execution_count": null,
   "metadata": {
    "colab": {
     "base_uri": "https://localhost:8080/"
    },
    "id": "A7PTRaaBpGaB",
    "outputId": "f02f2fc0-c714-4b38-b6a9-2fc8ea1fbf9c"
   },
   "outputs": [
    {
     "data": {
      "text/plain": [
       "0       7.7333\n",
       "1       8.6625\n",
       "2      24.1500\n",
       "3      23.0000\n",
       "4      13.0000\n",
       "        ...   \n",
       "845    50.0000\n",
       "846    29.7000\n",
       "847    26.0000\n",
       "848    13.7750\n",
       "849    13.0000\n",
       "Name: fare, Length: 850, dtype: float64"
      ]
     },
     "execution_count": 11,
     "metadata": {},
     "output_type": "execute_result"
    }
   ],
   "source": [
    "data['fare']"
   ]
  },
  {
   "cell_type": "code",
   "execution_count": null,
   "metadata": {
    "colab": {
     "base_uri": "https://localhost:8080/"
    },
    "id": "0dGMUZpXpKT8",
    "outputId": "cc68519b-766b-4441-d475-d33359088866"
   },
   "outputs": [
    {
     "name": "stdout",
     "output_type": "stream",
     "text": [
      "      fare  survived\n",
      "0   7.7333         1\n",
      "1   8.6625         0\n",
      "2  24.1500         0\n"
     ]
    }
   ],
   "source": [
    "# Select the fare and survived columns\n",
    "data_com = data[['fare','survived']]  #for multiple columns use list\n",
    "print(data_com.head(3))"
   ]
  },
  {
   "cell_type": "code",
   "execution_count": null,
   "metadata": {
    "colab": {
     "base_uri": "https://localhost:8080/"
    },
    "id": "Us9fHVk_qgF2",
    "outputId": "c26c8dc7-7527-47c5-83f1-2124d3d6c2ab"
   },
   "outputs": [
    {
     "name": "stdout",
     "output_type": "stream",
     "text": [
      "0      False\n",
      "1      False\n",
      "2      False\n",
      "3      False\n",
      "4      False\n",
      "       ...  \n",
      "845    False\n",
      "846    False\n",
      "847    False\n",
      "848    False\n",
      "849    False\n",
      "Name: fare, Length: 850, dtype: bool\n"
     ]
    }
   ],
   "source": [
    "# filter for rows where fare is greater than 70\n",
    "\n",
    "print(data['fare'] > 70)"
   ]
  },
  {
   "cell_type": "code",
   "execution_count": null,
   "metadata": {
    "colab": {
     "base_uri": "https://localhost:8080/"
    },
    "id": "1MUN9uCAs_vV",
    "outputId": "ac72013b-8c18-4f50-9681-2eea7b255a64"
   },
   "outputs": [
    {
     "name": "stdout",
     "output_type": "stream",
     "text": [
      "    passenger_id  pclass                                               name  \\\n",
      "10           313       1                          Widener, Mr. Harry Elkins   \n",
      "11            43       1    Bucknell, Mrs. William Robert (Emma Eliza Ward)   \n",
      "12           233       1      Potter, Mrs. Thomas Jr (Lily Alexenia Wilson)   \n",
      "37           249       1                        Ryerson, Master. John Borie   \n",
      "42           275       1  Spedden, Mrs. Frederic Oakley (Margaretta Corn...   \n",
      "\n",
      "       sex   age  sibsp  parch    ticket      fare            cabin embarked  \\\n",
      "10    male  27.0      0      2    113503  211.5000              C82        C   \n",
      "11  female  60.0      0      0     11813   76.2917              D15        C   \n",
      "12  female  56.0      0      1     11767   83.1583              C50        C   \n",
      "37    male  13.0      2      2  PC 17608  262.3750  B57 B59 B63 B66        C   \n",
      "42  female  40.0      1      1     16966  134.5000              E34        C   \n",
      "\n",
      "   boat  body                        home.dest  survived  \n",
      "10  NaN   NaN                  Elkins Park, PA         0  \n",
      "11    8   NaN                 Philadelphia, PA         1  \n",
      "12    7   NaN        Mt Airy, Philadelphia, PA         1  \n",
      "37    4   NaN  Haverford, PA / Cooperstown, NY         1  \n",
      "42    3   NaN                  Tuxedo Park, NY         1  \n"
     ]
    }
   ],
   "source": [
    "# to see fare is greater than 70 or not put above condition in dataframe(data)\n",
    "\n",
    "data_gt_70 = data[data['fare'] > 70]\n",
    "\n",
    "print(data_gt_70)\n"
   ]
  },
  {
   "cell_type": "code",
   "execution_count": null,
   "metadata": {
    "colab": {
     "base_uri": "https://localhost:8080/"
    },
    "id": "lU-dT1pftdn9",
    "outputId": "7c91101d-9f9e-4133-febb-465726c29250"
   },
   "outputs": [
    {
     "name": "stdout",
     "output_type": "stream",
     "text": [
      "     passenger_id  pclass                                               name  \\\n",
      "0            1216       3                                 Smyth, Miss. Julia   \n",
      "2            1267       3  Van Impe, Mrs. Jean Baptiste (Rosalie Paula Go...   \n",
      "3             449       2              Hocking, Mrs. Elizabeth (Eliza Needs)   \n",
      "7             560       2                              Sinkkonen, Miss. Anna   \n",
      "8            1079       3                                 Ohman, Miss. Velin   \n",
      "..            ...     ...                                                ...   \n",
      "838           333       2                            Ball, Mrs. (Ada E Hall)   \n",
      "841           208       1    Minahan, Mrs. William Edward (Lillian E Thorpe)   \n",
      "842           709       3                          Carr, Miss. Helen \"Ellen\"   \n",
      "847           467       2                Kantor, Mrs. Sinai (Miriam Sternin)   \n",
      "848          1112       3                          Peacock, Miss. Treasteall   \n",
      "\n",
      "        sex   age  sibsp  parch              ticket     fare cabin embarked  \\\n",
      "0    female   NaN      0      0              335432   7.7333   NaN        Q   \n",
      "2    female  30.0      1      1              345773  24.1500   NaN        S   \n",
      "3    female  54.0      1      3               29105  23.0000   NaN        S   \n",
      "7    female  30.0      0      0              250648  13.0000   NaN        S   \n",
      "8    female  22.0      0      0              347085   7.7750   NaN        S   \n",
      "..      ...   ...    ...    ...                 ...      ...   ...      ...   \n",
      "838  female  36.0      0      0               28551  13.0000     D        S   \n",
      "841  female  37.0      1      0               19928  90.0000   C78        Q   \n",
      "842  female  16.0      0      0              367231   7.7500   NaN        Q   \n",
      "847  female  24.0      1      0              244367  26.0000   NaN        S   \n",
      "848  female   3.0      1      1  SOTON/O.Q. 3101315  13.7750   NaN        S   \n",
      "\n",
      "    boat  body                          home.dest  survived  \n",
      "0     13   NaN                                NaN         1  \n",
      "2    NaN   NaN                                NaN         0  \n",
      "3      4   NaN               Cornwall / Akron, OH         1  \n",
      "7     10   NaN           Finland / Washington, DC         1  \n",
      "8      C   NaN                                NaN         1  \n",
      "..   ...   ...                                ...       ...  \n",
      "838   10   NaN   Bristol, Avon / Jacksonville, FL         1  \n",
      "841   14   NaN                    Fond du Lac, WI         1  \n",
      "842   16   NaN  Co Longford, Ireland New York, NY         1  \n",
      "847   12   NaN                 Moscow / Bronx, NY         1  \n",
      "848  NaN   NaN                                NaN         0  \n",
      "\n",
      "[299 rows x 15 columns]\n"
     ]
    }
   ],
   "source": [
    " # filter for rows where gender is female\n",
    "females = data[data['sex'] == 'female']\n",
    "print(females)\n"
   ]
  },
  {
   "cell_type": "code",
   "execution_count": null,
   "metadata": {
    "colab": {
     "base_uri": "https://localhost:8080/",
     "height": 1000
    },
    "id": "0XyAogyZwDT4",
    "outputId": "cb005eef-55e7-42c9-bbe3-ce7986627a3f"
   },
   "outputs": [
    {
     "data": {
      "text/html": [
       "\n",
       "  <div id=\"df-48bbd16f-86fe-4607-a8ca-bae2fdefe17f\">\n",
       "    <div class=\"colab-df-container\">\n",
       "      <div>\n",
       "<style scoped>\n",
       "    .dataframe tbody tr th:only-of-type {\n",
       "        vertical-align: middle;\n",
       "    }\n",
       "\n",
       "    .dataframe tbody tr th {\n",
       "        vertical-align: top;\n",
       "    }\n",
       "\n",
       "    .dataframe thead th {\n",
       "        text-align: right;\n",
       "    }\n",
       "</style>\n",
       "<table border=\"1\" class=\"dataframe\">\n",
       "  <thead>\n",
       "    <tr style=\"text-align: right;\">\n",
       "      <th></th>\n",
       "      <th>passenger_id</th>\n",
       "      <th>pclass</th>\n",
       "      <th>name</th>\n",
       "      <th>sex</th>\n",
       "      <th>age</th>\n",
       "      <th>sibsp</th>\n",
       "      <th>parch</th>\n",
       "      <th>ticket</th>\n",
       "      <th>fare</th>\n",
       "      <th>cabin</th>\n",
       "      <th>embarked</th>\n",
       "      <th>boat</th>\n",
       "      <th>body</th>\n",
       "      <th>home.dest</th>\n",
       "      <th>survived</th>\n",
       "    </tr>\n",
       "  </thead>\n",
       "  <tbody>\n",
       "    <tr>\n",
       "      <th>0</th>\n",
       "      <td>1216</td>\n",
       "      <td>3</td>\n",
       "      <td>Smyth, Miss. Julia</td>\n",
       "      <td>female</td>\n",
       "      <td>NaN</td>\n",
       "      <td>0</td>\n",
       "      <td>0</td>\n",
       "      <td>335432</td>\n",
       "      <td>7.7333</td>\n",
       "      <td>NaN</td>\n",
       "      <td>Q</td>\n",
       "      <td>13</td>\n",
       "      <td>NaN</td>\n",
       "      <td>NaN</td>\n",
       "      <td>1</td>\n",
       "    </tr>\n",
       "    <tr>\n",
       "      <th>3</th>\n",
       "      <td>449</td>\n",
       "      <td>2</td>\n",
       "      <td>Hocking, Mrs. Elizabeth (Eliza Needs)</td>\n",
       "      <td>female</td>\n",
       "      <td>54.0</td>\n",
       "      <td>1</td>\n",
       "      <td>3</td>\n",
       "      <td>29105</td>\n",
       "      <td>23.0000</td>\n",
       "      <td>NaN</td>\n",
       "      <td>S</td>\n",
       "      <td>4</td>\n",
       "      <td>NaN</td>\n",
       "      <td>Cornwall / Akron, OH</td>\n",
       "      <td>1</td>\n",
       "    </tr>\n",
       "    <tr>\n",
       "      <th>7</th>\n",
       "      <td>560</td>\n",
       "      <td>2</td>\n",
       "      <td>Sinkkonen, Miss. Anna</td>\n",
       "      <td>female</td>\n",
       "      <td>30.0</td>\n",
       "      <td>0</td>\n",
       "      <td>0</td>\n",
       "      <td>250648</td>\n",
       "      <td>13.0000</td>\n",
       "      <td>NaN</td>\n",
       "      <td>S</td>\n",
       "      <td>10</td>\n",
       "      <td>NaN</td>\n",
       "      <td>Finland / Washington, DC</td>\n",
       "      <td>1</td>\n",
       "    </tr>\n",
       "    <tr>\n",
       "      <th>8</th>\n",
       "      <td>1079</td>\n",
       "      <td>3</td>\n",
       "      <td>Ohman, Miss. Velin</td>\n",
       "      <td>female</td>\n",
       "      <td>22.0</td>\n",
       "      <td>0</td>\n",
       "      <td>0</td>\n",
       "      <td>347085</td>\n",
       "      <td>7.7750</td>\n",
       "      <td>NaN</td>\n",
       "      <td>S</td>\n",
       "      <td>C</td>\n",
       "      <td>NaN</td>\n",
       "      <td>NaN</td>\n",
       "      <td>1</td>\n",
       "    </tr>\n",
       "    <tr>\n",
       "      <th>11</th>\n",
       "      <td>43</td>\n",
       "      <td>1</td>\n",
       "      <td>Bucknell, Mrs. William Robert (Emma Eliza Ward)</td>\n",
       "      <td>female</td>\n",
       "      <td>60.0</td>\n",
       "      <td>0</td>\n",
       "      <td>0</td>\n",
       "      <td>11813</td>\n",
       "      <td>76.2917</td>\n",
       "      <td>D15</td>\n",
       "      <td>C</td>\n",
       "      <td>8</td>\n",
       "      <td>NaN</td>\n",
       "      <td>Philadelphia, PA</td>\n",
       "      <td>1</td>\n",
       "    </tr>\n",
       "    <tr>\n",
       "      <th>...</th>\n",
       "      <td>...</td>\n",
       "      <td>...</td>\n",
       "      <td>...</td>\n",
       "      <td>...</td>\n",
       "      <td>...</td>\n",
       "      <td>...</td>\n",
       "      <td>...</td>\n",
       "      <td>...</td>\n",
       "      <td>...</td>\n",
       "      <td>...</td>\n",
       "      <td>...</td>\n",
       "      <td>...</td>\n",
       "      <td>...</td>\n",
       "      <td>...</td>\n",
       "      <td>...</td>\n",
       "    </tr>\n",
       "    <tr>\n",
       "      <th>837</th>\n",
       "      <td>102</td>\n",
       "      <td>1</td>\n",
       "      <td>Earnshaw, Mrs. Boulton (Olive Potter)</td>\n",
       "      <td>female</td>\n",
       "      <td>23.0</td>\n",
       "      <td>0</td>\n",
       "      <td>1</td>\n",
       "      <td>11767</td>\n",
       "      <td>83.1583</td>\n",
       "      <td>C54</td>\n",
       "      <td>C</td>\n",
       "      <td>7</td>\n",
       "      <td>NaN</td>\n",
       "      <td>Mt Airy, Philadelphia, PA</td>\n",
       "      <td>1</td>\n",
       "    </tr>\n",
       "    <tr>\n",
       "      <th>838</th>\n",
       "      <td>333</td>\n",
       "      <td>2</td>\n",
       "      <td>Ball, Mrs. (Ada E Hall)</td>\n",
       "      <td>female</td>\n",
       "      <td>36.0</td>\n",
       "      <td>0</td>\n",
       "      <td>0</td>\n",
       "      <td>28551</td>\n",
       "      <td>13.0000</td>\n",
       "      <td>D</td>\n",
       "      <td>S</td>\n",
       "      <td>10</td>\n",
       "      <td>NaN</td>\n",
       "      <td>Bristol, Avon / Jacksonville, FL</td>\n",
       "      <td>1</td>\n",
       "    </tr>\n",
       "    <tr>\n",
       "      <th>841</th>\n",
       "      <td>208</td>\n",
       "      <td>1</td>\n",
       "      <td>Minahan, Mrs. William Edward (Lillian E Thorpe)</td>\n",
       "      <td>female</td>\n",
       "      <td>37.0</td>\n",
       "      <td>1</td>\n",
       "      <td>0</td>\n",
       "      <td>19928</td>\n",
       "      <td>90.0000</td>\n",
       "      <td>C78</td>\n",
       "      <td>Q</td>\n",
       "      <td>14</td>\n",
       "      <td>NaN</td>\n",
       "      <td>Fond du Lac, WI</td>\n",
       "      <td>1</td>\n",
       "    </tr>\n",
       "    <tr>\n",
       "      <th>842</th>\n",
       "      <td>709</td>\n",
       "      <td>3</td>\n",
       "      <td>Carr, Miss. Helen \"Ellen\"</td>\n",
       "      <td>female</td>\n",
       "      <td>16.0</td>\n",
       "      <td>0</td>\n",
       "      <td>0</td>\n",
       "      <td>367231</td>\n",
       "      <td>7.7500</td>\n",
       "      <td>NaN</td>\n",
       "      <td>Q</td>\n",
       "      <td>16</td>\n",
       "      <td>NaN</td>\n",
       "      <td>Co Longford, Ireland New York, NY</td>\n",
       "      <td>1</td>\n",
       "    </tr>\n",
       "    <tr>\n",
       "      <th>847</th>\n",
       "      <td>467</td>\n",
       "      <td>2</td>\n",
       "      <td>Kantor, Mrs. Sinai (Miriam Sternin)</td>\n",
       "      <td>female</td>\n",
       "      <td>24.0</td>\n",
       "      <td>1</td>\n",
       "      <td>0</td>\n",
       "      <td>244367</td>\n",
       "      <td>26.0000</td>\n",
       "      <td>NaN</td>\n",
       "      <td>S</td>\n",
       "      <td>12</td>\n",
       "      <td>NaN</td>\n",
       "      <td>Moscow / Bronx, NY</td>\n",
       "      <td>1</td>\n",
       "    </tr>\n",
       "  </tbody>\n",
       "</table>\n",
       "<p>210 rows × 15 columns</p>\n",
       "</div>\n",
       "      <button class=\"colab-df-convert\" onclick=\"convertToInteractive('df-48bbd16f-86fe-4607-a8ca-bae2fdefe17f')\"\n",
       "              title=\"Convert this dataframe to an interactive table.\"\n",
       "              style=\"display:none;\">\n",
       "        \n",
       "  <svg xmlns=\"http://www.w3.org/2000/svg\" height=\"24px\"viewBox=\"0 0 24 24\"\n",
       "       width=\"24px\">\n",
       "    <path d=\"M0 0h24v24H0V0z\" fill=\"none\"/>\n",
       "    <path d=\"M18.56 5.44l.94 2.06.94-2.06 2.06-.94-2.06-.94-.94-2.06-.94 2.06-2.06.94zm-11 1L8.5 8.5l.94-2.06 2.06-.94-2.06-.94L8.5 2.5l-.94 2.06-2.06.94zm10 10l.94 2.06.94-2.06 2.06-.94-2.06-.94-.94-2.06-.94 2.06-2.06.94z\"/><path d=\"M17.41 7.96l-1.37-1.37c-.4-.4-.92-.59-1.43-.59-.52 0-1.04.2-1.43.59L10.3 9.45l-7.72 7.72c-.78.78-.78 2.05 0 2.83L4 21.41c.39.39.9.59 1.41.59.51 0 1.02-.2 1.41-.59l7.78-7.78 2.81-2.81c.8-.78.8-2.07 0-2.86zM5.41 20L4 18.59l7.72-7.72 1.47 1.35L5.41 20z\"/>\n",
       "  </svg>\n",
       "      </button>\n",
       "      \n",
       "  <style>\n",
       "    .colab-df-container {\n",
       "      display:flex;\n",
       "      flex-wrap:wrap;\n",
       "      gap: 12px;\n",
       "    }\n",
       "\n",
       "    .colab-df-convert {\n",
       "      background-color: #E8F0FE;\n",
       "      border: none;\n",
       "      border-radius: 50%;\n",
       "      cursor: pointer;\n",
       "      display: none;\n",
       "      fill: #1967D2;\n",
       "      height: 32px;\n",
       "      padding: 0 0 0 0;\n",
       "      width: 32px;\n",
       "    }\n",
       "\n",
       "    .colab-df-convert:hover {\n",
       "      background-color: #E2EBFA;\n",
       "      box-shadow: 0px 1px 2px rgba(60, 64, 67, 0.3), 0px 1px 3px 1px rgba(60, 64, 67, 0.15);\n",
       "      fill: #174EA6;\n",
       "    }\n",
       "\n",
       "    [theme=dark] .colab-df-convert {\n",
       "      background-color: #3B4455;\n",
       "      fill: #D2E3FC;\n",
       "    }\n",
       "\n",
       "    [theme=dark] .colab-df-convert:hover {\n",
       "      background-color: #434B5C;\n",
       "      box-shadow: 0px 1px 3px 1px rgba(0, 0, 0, 0.15);\n",
       "      filter: drop-shadow(0px 1px 2px rgba(0, 0, 0, 0.3));\n",
       "      fill: #FFFFFF;\n",
       "    }\n",
       "  </style>\n",
       "\n",
       "      <script>\n",
       "        const buttonEl =\n",
       "          document.querySelector('#df-48bbd16f-86fe-4607-a8ca-bae2fdefe17f button.colab-df-convert');\n",
       "        buttonEl.style.display =\n",
       "          google.colab.kernel.accessAllowed ? 'block' : 'none';\n",
       "\n",
       "        async function convertToInteractive(key) {\n",
       "          const element = document.querySelector('#df-48bbd16f-86fe-4607-a8ca-bae2fdefe17f');\n",
       "          const dataTable =\n",
       "            await google.colab.kernel.invokeFunction('convertToInteractive',\n",
       "                                                     [key], {});\n",
       "          if (!dataTable) return;\n",
       "\n",
       "          const docLinkHtml = 'Like what you see? Visit the ' +\n",
       "            '<a target=\"_blank\" href=https://colab.research.google.com/notebooks/data_table.ipynb>data table notebook</a>'\n",
       "            + ' to learn more about interactive tables.';\n",
       "          element.innerHTML = '';\n",
       "          dataTable['output_type'] = 'display_data';\n",
       "          await google.colab.output.renderOutput(dataTable, element);\n",
       "          const docLink = document.createElement('div');\n",
       "          docLink.innerHTML = docLinkHtml;\n",
       "          element.appendChild(docLink);\n",
       "        }\n",
       "      </script>\n",
       "    </div>\n",
       "  </div>\n",
       "  "
      ],
      "text/plain": [
       "     passenger_id  pclass                                             name  \\\n",
       "0            1216       3                               Smyth, Miss. Julia   \n",
       "3             449       2            Hocking, Mrs. Elizabeth (Eliza Needs)   \n",
       "7             560       2                            Sinkkonen, Miss. Anna   \n",
       "8            1079       3                               Ohman, Miss. Velin   \n",
       "11             43       1  Bucknell, Mrs. William Robert (Emma Eliza Ward)   \n",
       "..            ...     ...                                              ...   \n",
       "837           102       1            Earnshaw, Mrs. Boulton (Olive Potter)   \n",
       "838           333       2                          Ball, Mrs. (Ada E Hall)   \n",
       "841           208       1  Minahan, Mrs. William Edward (Lillian E Thorpe)   \n",
       "842           709       3                        Carr, Miss. Helen \"Ellen\"   \n",
       "847           467       2              Kantor, Mrs. Sinai (Miriam Sternin)   \n",
       "\n",
       "        sex   age  sibsp  parch  ticket     fare cabin embarked boat  body  \\\n",
       "0    female   NaN      0      0  335432   7.7333   NaN        Q   13   NaN   \n",
       "3    female  54.0      1      3   29105  23.0000   NaN        S    4   NaN   \n",
       "7    female  30.0      0      0  250648  13.0000   NaN        S   10   NaN   \n",
       "8    female  22.0      0      0  347085   7.7750   NaN        S    C   NaN   \n",
       "11   female  60.0      0      0   11813  76.2917   D15        C    8   NaN   \n",
       "..      ...   ...    ...    ...     ...      ...   ...      ...  ...   ...   \n",
       "837  female  23.0      0      1   11767  83.1583   C54        C    7   NaN   \n",
       "838  female  36.0      0      0   28551  13.0000     D        S   10   NaN   \n",
       "841  female  37.0      1      0   19928  90.0000   C78        Q   14   NaN   \n",
       "842  female  16.0      0      0  367231   7.7500   NaN        Q   16   NaN   \n",
       "847  female  24.0      1      0  244367  26.0000   NaN        S   12   NaN   \n",
       "\n",
       "                             home.dest  survived  \n",
       "0                                  NaN         1  \n",
       "3                 Cornwall / Akron, OH         1  \n",
       "7             Finland / Washington, DC         1  \n",
       "8                                  NaN         1  \n",
       "11                    Philadelphia, PA         1  \n",
       "..                                 ...       ...  \n",
       "837          Mt Airy, Philadelphia, PA         1  \n",
       "838   Bristol, Avon / Jacksonville, FL         1  \n",
       "841                    Fond du Lac, WI         1  \n",
       "842  Co Longford, Ireland New York, NY         1  \n",
       "847                 Moscow / Bronx, NY         1  \n",
       "\n",
       "[210 rows x 15 columns]"
      ]
     },
     "execution_count": 20,
     "metadata": {},
     "output_type": "execute_result"
    }
   ],
   "source": [
    "#  for two condition we use & operator\n",
    "\n",
    "females_sur = data[(data['sex'] == 'female') & (data['survived'] == 1)]\n",
    "females_sur"
   ]
  },
  {
   "cell_type": "code",
   "execution_count": null,
   "metadata": {
    "colab": {
     "base_uri": "https://localhost:8080/"
    },
    "id": "Cr5OaIvNxbbl",
    "outputId": "c1b4add0-5a92-4653-998f-ccb0654f1841"
   },
   "outputs": [
    {
     "name": "stdout",
     "output_type": "stream",
     "text": [
      "   passenger_id  pclass                                               name  \\\n",
      "0          1216       3                                 Smyth, Miss. Julia   \n",
      "1           699       3                                    Cacic, Mr. Luka   \n",
      "2          1267       3  Van Impe, Mrs. Jean Baptiste (Rosalie Paula Go...   \n",
      "3           449       2              Hocking, Mrs. Elizabeth (Eliza Needs)   \n",
      "4           576       2                                    Veal, Mr. James   \n",
      "\n",
      "      sex   age  sibsp  parch  ticket     fare cabin embarked boat  body  \\\n",
      "0  female   NaN      0      0  335432   7.7333   NaN        Q   13   NaN   \n",
      "1    male  38.0      0      0  315089   8.6625   NaN        S  NaN   NaN   \n",
      "2  female  30.0      1      1  345773  24.1500   NaN        S  NaN   NaN   \n",
      "3  female  54.0      1      3   29105  23.0000   NaN        S    4   NaN   \n",
      "4    male  40.0      0      0   28221  13.0000   NaN        S  NaN   NaN   \n",
      "\n",
      "                  home.dest  survived  family  \n",
      "0                       NaN         1       0  \n",
      "1                   Croatia         0       0  \n",
      "2                       NaN         0       2  \n",
      "3      Cornwall / Akron, OH         1       4  \n",
      "4  Barre, Co Washington, VT         0       0  \n"
     ]
    }
   ],
   "source": [
    "# we can merge two columns into a single new column\n",
    "\n",
    "data['family'] = data['sibsp'] + data['parch']\n",
    "\n",
    "print(data.head())"
   ]
  },
  {
   "cell_type": "code",
   "execution_count": null,
   "metadata": {
    "id": "7CEuFBsWy6gV"
   },
   "outputs": [],
   "source": []
  },
  {
   "cell_type": "markdown",
   "metadata": {
    "id": "V8tZ78lo2i6b"
   },
   "source": [
    "**Summary Statistics**"
   ]
  },
  {
   "cell_type": "code",
   "execution_count": null,
   "metadata": {
    "colab": {
     "base_uri": "https://localhost:8080/"
    },
    "id": "Jm3YcVPy2nc3",
    "outputId": "8ee1972f-3942-4866-c977-1bab5520e4f1"
   },
   "outputs": [
    {
     "data": {
      "text/plain": [
       "29.519847189349115"
      ]
     },
     "execution_count": 23,
     "metadata": {},
     "output_type": "execute_result"
    }
   ],
   "source": [
    "# average age of the Titanic passengers\n",
    "data['age'].mean()"
   ]
  },
  {
   "cell_type": "code",
   "execution_count": null,
   "metadata": {
    "colab": {
     "base_uri": "https://localhost:8080/"
    },
    "id": "i4G4Z8R13HXr",
    "outputId": "d9428ec5-2f28-4d45-be8b-74ca9b11d236"
   },
   "outputs": [
    {
     "name": "stdout",
     "output_type": "stream",
     "text": [
      "age     28.0000\n",
      "fare    14.1083\n",
      "dtype: float64\n"
     ]
    }
   ],
   "source": [
    "# Median age and fare of the Titanic passengers\n",
    "\n",
    "median = data[['age', 'fare']].median()\n",
    "print(median)\n"
   ]
  },
  {
   "cell_type": "code",
   "execution_count": null,
   "metadata": {
    "colab": {
     "base_uri": "https://localhost:8080/",
     "height": 175
    },
    "id": "JxpiIUVuhtAN",
    "outputId": "2700de67-731f-44ba-8e5d-a0edd4381abe"
   },
   "outputs": [
    {
     "data": {
      "text/html": [
       "\n",
       "  <div id=\"df-2e59d35f-bb24-4ad6-8fda-e07e5cf88665\">\n",
       "    <div class=\"colab-df-container\">\n",
       "      <div>\n",
       "<style scoped>\n",
       "    .dataframe tbody tr th:only-of-type {\n",
       "        vertical-align: middle;\n",
       "    }\n",
       "\n",
       "    .dataframe tbody tr th {\n",
       "        vertical-align: top;\n",
       "    }\n",
       "\n",
       "    .dataframe thead th {\n",
       "        text-align: right;\n",
       "    }\n",
       "</style>\n",
       "<table border=\"1\" class=\"dataframe\">\n",
       "  <thead>\n",
       "    <tr style=\"text-align: right;\">\n",
       "      <th></th>\n",
       "      <th>age</th>\n",
       "      <th>fare</th>\n",
       "    </tr>\n",
       "  </thead>\n",
       "  <tbody>\n",
       "    <tr>\n",
       "      <th>min</th>\n",
       "      <td>0.166700</td>\n",
       "      <td>0.000000</td>\n",
       "    </tr>\n",
       "    <tr>\n",
       "      <th>max</th>\n",
       "      <td>80.000000</td>\n",
       "      <td>512.329200</td>\n",
       "    </tr>\n",
       "    <tr>\n",
       "      <th>median</th>\n",
       "      <td>28.000000</td>\n",
       "      <td>14.108300</td>\n",
       "    </tr>\n",
       "    <tr>\n",
       "      <th>mean</th>\n",
       "      <td>29.519847</td>\n",
       "      <td>34.012701</td>\n",
       "    </tr>\n",
       "  </tbody>\n",
       "</table>\n",
       "</div>\n",
       "      <button class=\"colab-df-convert\" onclick=\"convertToInteractive('df-2e59d35f-bb24-4ad6-8fda-e07e5cf88665')\"\n",
       "              title=\"Convert this dataframe to an interactive table.\"\n",
       "              style=\"display:none;\">\n",
       "        \n",
       "  <svg xmlns=\"http://www.w3.org/2000/svg\" height=\"24px\"viewBox=\"0 0 24 24\"\n",
       "       width=\"24px\">\n",
       "    <path d=\"M0 0h24v24H0V0z\" fill=\"none\"/>\n",
       "    <path d=\"M18.56 5.44l.94 2.06.94-2.06 2.06-.94-2.06-.94-.94-2.06-.94 2.06-2.06.94zm-11 1L8.5 8.5l.94-2.06 2.06-.94-2.06-.94L8.5 2.5l-.94 2.06-2.06.94zm10 10l.94 2.06.94-2.06 2.06-.94-2.06-.94-.94-2.06-.94 2.06-2.06.94z\"/><path d=\"M17.41 7.96l-1.37-1.37c-.4-.4-.92-.59-1.43-.59-.52 0-1.04.2-1.43.59L10.3 9.45l-7.72 7.72c-.78.78-.78 2.05 0 2.83L4 21.41c.39.39.9.59 1.41.59.51 0 1.02-.2 1.41-.59l7.78-7.78 2.81-2.81c.8-.78.8-2.07 0-2.86zM5.41 20L4 18.59l7.72-7.72 1.47 1.35L5.41 20z\"/>\n",
       "  </svg>\n",
       "      </button>\n",
       "      \n",
       "  <style>\n",
       "    .colab-df-container {\n",
       "      display:flex;\n",
       "      flex-wrap:wrap;\n",
       "      gap: 12px;\n",
       "    }\n",
       "\n",
       "    .colab-df-convert {\n",
       "      background-color: #E8F0FE;\n",
       "      border: none;\n",
       "      border-radius: 50%;\n",
       "      cursor: pointer;\n",
       "      display: none;\n",
       "      fill: #1967D2;\n",
       "      height: 32px;\n",
       "      padding: 0 0 0 0;\n",
       "      width: 32px;\n",
       "    }\n",
       "\n",
       "    .colab-df-convert:hover {\n",
       "      background-color: #E2EBFA;\n",
       "      box-shadow: 0px 1px 2px rgba(60, 64, 67, 0.3), 0px 1px 3px 1px rgba(60, 64, 67, 0.15);\n",
       "      fill: #174EA6;\n",
       "    }\n",
       "\n",
       "    [theme=dark] .colab-df-convert {\n",
       "      background-color: #3B4455;\n",
       "      fill: #D2E3FC;\n",
       "    }\n",
       "\n",
       "    [theme=dark] .colab-df-convert:hover {\n",
       "      background-color: #434B5C;\n",
       "      box-shadow: 0px 1px 3px 1px rgba(0, 0, 0, 0.15);\n",
       "      filter: drop-shadow(0px 1px 2px rgba(0, 0, 0, 0.3));\n",
       "      fill: #FFFFFF;\n",
       "    }\n",
       "  </style>\n",
       "\n",
       "      <script>\n",
       "        const buttonEl =\n",
       "          document.querySelector('#df-2e59d35f-bb24-4ad6-8fda-e07e5cf88665 button.colab-df-convert');\n",
       "        buttonEl.style.display =\n",
       "          google.colab.kernel.accessAllowed ? 'block' : 'none';\n",
       "\n",
       "        async function convertToInteractive(key) {\n",
       "          const element = document.querySelector('#df-2e59d35f-bb24-4ad6-8fda-e07e5cf88665');\n",
       "          const dataTable =\n",
       "            await google.colab.kernel.invokeFunction('convertToInteractive',\n",
       "                                                     [key], {});\n",
       "          if (!dataTable) return;\n",
       "\n",
       "          const docLinkHtml = 'Like what you see? Visit the ' +\n",
       "            '<a target=\"_blank\" href=https://colab.research.google.com/notebooks/data_table.ipynb>data table notebook</a>'\n",
       "            + ' to learn more about interactive tables.';\n",
       "          element.innerHTML = '';\n",
       "          dataTable['output_type'] = 'display_data';\n",
       "          await google.colab.output.renderOutput(dataTable, element);\n",
       "          const docLink = document.createElement('div');\n",
       "          docLink.innerHTML = docLinkHtml;\n",
       "          element.appendChild(docLink);\n",
       "        }\n",
       "      </script>\n",
       "    </div>\n",
       "  </div>\n",
       "  "
      ],
      "text/plain": [
       "              age        fare\n",
       "min      0.166700    0.000000\n",
       "max     80.000000  512.329200\n",
       "median  28.000000   14.108300\n",
       "mean    29.519847   34.012701"
      ]
     },
     "execution_count": 17,
     "metadata": {},
     "output_type": "execute_result"
    }
   ],
   "source": [
    "\n",
    "# Similarly The .agg() method allows you to apply your own custom functions to a DataFrame, \n",
    "#as well as apply functions to more than one column of a DataFrame at once, \n",
    "#making your aggregations super-efficient.\n",
    "     \n",
    "data[['age', 'fare']].agg(['min','max','median','mean'])"
   ]
  },
  {
   "cell_type": "code",
   "execution_count": null,
   "metadata": {
    "colab": {
     "base_uri": "https://localhost:8080/"
    },
    "id": "Pt7gt1rwi4Oq",
    "outputId": "bfe84d43-1f22-4457-fce7-e145f1146309"
   },
   "outputs": [
    {
     "name": "stdout",
     "output_type": "stream",
     "text": [
      "age      80.0000\n",
      "fare    512.3292\n",
      "dtype: float64\n",
      "age     0.1667\n",
      "fare    0.0000\n",
      "dtype: float64\n"
     ]
    }
   ],
   "source": [
    "# Print the maximum of the date column\n",
    "print(data[[\"age\", \"fare\"]].max())\n",
    "\n",
    "# Print the minimum of the date column\n",
    "print(data[[\"age\", \"fare\"]].min())"
   ]
  },
  {
   "cell_type": "markdown",
   "metadata": {
    "id": "J7_nF3oZlurs"
   },
   "source": [
    "**Slicing and Indexing**"
   ]
  },
  {
   "cell_type": "code",
   "execution_count": null,
   "metadata": {
    "id": "kZ7vM96Ql1OA"
   },
   "outputs": [],
   "source": [
    "a = ['spam', 'egg', 'bacon', 'tomato', 'ham', 'lobster']"
   ]
  },
  {
   "cell_type": "code",
   "execution_count": null,
   "metadata": {
    "colab": {
     "base_uri": "https://localhost:8080/",
     "height": 35
    },
    "id": "xTawnvaymCPD",
    "outputId": "6b7c3a4b-5fd1-4c50-ac29-0fb1f9222ba9"
   },
   "outputs": [
    {
     "data": {
      "application/vnd.google.colaboratory.intrinsic+json": {
       "type": "string"
      },
      "text/plain": [
       "'spam'"
      ]
     },
     "execution_count": 15,
     "metadata": {},
     "output_type": "execute_result"
    }
   ],
   "source": [
    "a[0]\n"
   ]
  },
  {
   "cell_type": "code",
   "execution_count": null,
   "metadata": {
    "colab": {
     "base_uri": "https://localhost:8080/",
     "height": 35
    },
    "id": "LSTeiQ66mGRz",
    "outputId": "0171cbf2-0ff3-4b30-afa9-6e78740ea1cd"
   },
   "outputs": [
    {
     "data": {
      "application/vnd.google.colaboratory.intrinsic+json": {
       "type": "string"
      },
      "text/plain": [
       "'lobster'"
      ]
     },
     "execution_count": 16,
     "metadata": {},
     "output_type": "execute_result"
    }
   ],
   "source": [
    "a[-1]"
   ]
  },
  {
   "cell_type": "code",
   "execution_count": null,
   "metadata": {
    "colab": {
     "base_uri": "https://localhost:8080/"
    },
    "id": "XALKtM3qmLu4",
    "outputId": "2a859019-286a-4ea6-8226-7e13765da304"
   },
   "outputs": [
    {
     "data": {
      "text/plain": [
       "6"
      ]
     },
     "execution_count": 17,
     "metadata": {},
     "output_type": "execute_result"
    }
   ],
   "source": [
    "len(a)"
   ]
  },
  {
   "cell_type": "code",
   "execution_count": null,
   "metadata": {
    "colab": {
     "base_uri": "https://localhost:8080/",
     "height": 201
    },
    "id": "-XwNkMi2mPjC",
    "outputId": "d4edfe49-2d8d-4b57-bb77-e27cc6d05020"
   },
   "outputs": [
    {
     "ename": "IndexError",
     "evalue": "ignored",
     "output_type": "error",
     "traceback": [
      "\u001b[0;31m---------------------------------------------------------------------------\u001b[0m",
      "\u001b[0;31mIndexError\u001b[0m                                Traceback (most recent call last)",
      "\u001b[0;32m<ipython-input-18-8b9a4b6eb92a>\u001b[0m in \u001b[0;36m<cell line: 1>\u001b[0;34m()\u001b[0m\n\u001b[0;32m----> 1\u001b[0;31m \u001b[0ma\u001b[0m\u001b[0;34m[\u001b[0m\u001b[0mlen\u001b[0m\u001b[0;34m(\u001b[0m\u001b[0ma\u001b[0m\u001b[0;34m)\u001b[0m\u001b[0;34m]\u001b[0m   \u001b[0;31m# Index start from zero\u001b[0m\u001b[0;34m\u001b[0m\u001b[0;34m\u001b[0m\u001b[0m\n\u001b[0m",
      "\u001b[0;31mIndexError\u001b[0m: list index out of range"
     ]
    }
   ],
   "source": [
    "a[len(a)]   # Index start from zero "
   ]
  },
  {
   "cell_type": "code",
   "execution_count": null,
   "metadata": {
    "colab": {
     "base_uri": "https://localhost:8080/",
     "height": 35
    },
    "id": "C1c_3PMpmWqE",
    "outputId": "91421d01-29fb-440d-d908-8ba264054d70"
   },
   "outputs": [
    {
     "data": {
      "application/vnd.google.colaboratory.intrinsic+json": {
       "type": "string"
      },
      "text/plain": [
       "'lobster'"
      ]
     },
     "execution_count": 19,
     "metadata": {},
     "output_type": "execute_result"
    }
   ],
   "source": [
    "a[len(a)-1]"
   ]
  },
  {
   "cell_type": "code",
   "execution_count": null,
   "metadata": {
    "colab": {
     "base_uri": "https://localhost:8080/",
     "height": 35
    },
    "id": "WvqqPVMima08",
    "outputId": "c87b6f99-bac8-43fe-ae8b-5b88763afaf3"
   },
   "outputs": [
    {
     "data": {
      "application/vnd.google.colaboratory.intrinsic+json": {
       "type": "string"
      },
      "text/plain": [
       "'spam'"
      ]
     },
     "execution_count": 20,
     "metadata": {},
     "output_type": "execute_result"
    }
   ],
   "source": [
    "a[-6]"
   ]
  },
  {
   "cell_type": "markdown",
   "metadata": {
    "id": "4MdxqUogmkbV"
   },
   "source": [
    "**Slicing**"
   ]
  },
  {
   "cell_type": "code",
   "execution_count": null,
   "metadata": {
    "colab": {
     "base_uri": "https://localhost:8080/"
    },
    "id": "i1oVNBXCmlh1",
    "outputId": "06598960-833f-4f04-dfbd-9433a7f83dcd"
   },
   "outputs": [
    {
     "data": {
      "text/plain": [
       "['bacon', 'tomato', 'ham']"
      ]
     },
     "execution_count": 21,
     "metadata": {},
     "output_type": "execute_result"
    }
   ],
   "source": [
    "a[2:5]"
   ]
  },
  {
   "cell_type": "code",
   "execution_count": null,
   "metadata": {
    "colab": {
     "base_uri": "https://localhost:8080/"
    },
    "id": "HMn_ZGYmmpw2",
    "outputId": "785c822e-7ba5-4d2d-9c89-48a7aa6877d2"
   },
   "outputs": [
    {
     "data": {
      "text/plain": [
       "['egg', 'bacon', 'tomato']"
      ]
     },
     "execution_count": 22,
     "metadata": {},
     "output_type": "execute_result"
    }
   ],
   "source": [
    "a[-2:-5]\n",
    "\n",
    "# how to get same output with positive index?\n",
    "\n",
    "a[1:4]"
   ]
  },
  {
   "cell_type": "code",
   "execution_count": null,
   "metadata": {
    "colab": {
     "base_uri": "https://localhost:8080/"
    },
    "id": "YQISGs3dmvxt",
    "outputId": "b6a0ec73-d854-405c-e95f-768f9316f145"
   },
   "outputs": [
    {
     "data": {
      "text/plain": [
       "['spam', 'egg', 'bacon', 'tomato']"
      ]
     },
     "execution_count": 23,
     "metadata": {},
     "output_type": "execute_result"
    }
   ],
   "source": [
    "a[:4]"
   ]
  },
  {
   "cell_type": "code",
   "execution_count": null,
   "metadata": {
    "colab": {
     "base_uri": "https://localhost:8080/"
    },
    "id": "ZzpqwmRWm3-P",
    "outputId": "e6e8e7cd-21b4-4620-a6d0-8aff1efb2e13"
   },
   "outputs": [
    {
     "data": {
      "text/plain": [
       "['bacon', 'tomato', 'ham', 'lobster']"
      ]
     },
     "execution_count": 24,
     "metadata": {},
     "output_type": "execute_result"
    }
   ],
   "source": [
    "a[2:]"
   ]
  },
  {
   "cell_type": "code",
   "execution_count": null,
   "metadata": {
    "colab": {
     "base_uri": "https://localhost:8080/"
    },
    "id": "1D40Bkj-m8Bx",
    "outputId": "d825632f-31c1-4eba-fa6d-7674b5a86986"
   },
   "outputs": [
    {
     "data": {
      "text/plain": [
       "['bacon', 'tomato', 'ham', 'lobster']"
      ]
     },
     "execution_count": 25,
     "metadata": {},
     "output_type": "execute_result"
    }
   ],
   "source": [
    "\n",
    "a[2:len(a)]\n"
   ]
  },
  {
   "cell_type": "code",
   "execution_count": null,
   "metadata": {
    "colab": {
     "base_uri": "https://localhost:8080/"
    },
    "id": "E4XMthx-m_mA",
    "outputId": "47c8f994-e9e3-432e-edda-0a6da62eb01f"
   },
   "outputs": [
    {
     "data": {
      "text/plain": [
       "['spam', 'egg', 'bacon', 'tomato', 'ham', 'lobster']"
      ]
     },
     "execution_count": 26,
     "metadata": {},
     "output_type": "execute_result"
    }
   ],
   "source": [
    "a[:]\n",
    "     "
   ]
  },
  {
   "cell_type": "code",
   "execution_count": null,
   "metadata": {
    "colab": {
     "base_uri": "https://localhost:8080/"
    },
    "id": "fgAamGcqnDfB",
    "outputId": "2439c088-af41-42c1-f2a8-3409358566e9"
   },
   "outputs": [
    {
     "data": {
      "text/plain": [
       "['spam', 'egg', 'bacon', 'tomato']"
      ]
     },
     "execution_count": 27,
     "metadata": {},
     "output_type": "execute_result"
    }
   ],
   "source": [
    "\n",
    "a[0:4]"
   ]
  },
  {
   "cell_type": "markdown",
   "metadata": {
    "id": "WMMWExiEnLQF"
   },
   "source": [
    "**Stride**"
   ]
  },
  {
   "cell_type": "code",
   "execution_count": null,
   "metadata": {
    "colab": {
     "base_uri": "https://localhost:8080/"
    },
    "id": "_PJ4_qE2nUGl",
    "outputId": "fc313dd8-2387-4cb5-95e5-93202db11e0a"
   },
   "outputs": [
    {
     "data": {
      "text/plain": [
       "['spam', 'egg', 'bacon', 'tomato', 'ham', 'lobster']"
      ]
     },
     "execution_count": 28,
     "metadata": {},
     "output_type": "execute_result"
    }
   ],
   "source": [
    "\n",
    "a"
   ]
  },
  {
   "cell_type": "code",
   "execution_count": null,
   "metadata": {
    "colab": {
     "base_uri": "https://localhost:8080/"
    },
    "id": "aeEKimP5nNrd",
    "outputId": "070c8f10-852a-4278-93ef-c143e5f836e3"
   },
   "outputs": [
    {
     "data": {
      "text/plain": [
       "['spam', 'bacon', 'ham']"
      ]
     },
     "execution_count": 29,
     "metadata": {},
     "output_type": "execute_result"
    }
   ],
   "source": [
    "a[0:len(a):2]\n",
    "     "
   ]
  },
  {
   "cell_type": "code",
   "execution_count": null,
   "metadata": {
    "colab": {
     "base_uri": "https://localhost:8080/"
    },
    "id": "OGFz3urxnXLn",
    "outputId": "ec26cf1c-8aeb-4549-b414-72d505fba7b6"
   },
   "outputs": [
    {
     "data": {
      "text/plain": [
       "['lobster', 'tomato', 'egg']"
      ]
     },
     "execution_count": 30,
     "metadata": {},
     "output_type": "execute_result"
    }
   ],
   "source": [
    "a[6:0:-2]"
   ]
  },
  {
   "cell_type": "code",
   "execution_count": null,
   "metadata": {
    "colab": {
     "base_uri": "https://localhost:8080/"
    },
    "id": "3n3SzVJGnh5g",
    "outputId": "5fbba29a-9e07-4a25-892c-2cc630939b28"
   },
   "outputs": [
    {
     "data": {
      "text/plain": [
       "['lobster', 'ham', 'tomato', 'bacon', 'egg', 'spam']"
      ]
     },
     "execution_count": 31,
     "metadata": {},
     "output_type": "execute_result"
    }
   ],
   "source": [
    "\n",
    "a[::-1]    # reverse the list\n",
    "     "
   ]
  },
  {
   "cell_type": "code",
   "execution_count": null,
   "metadata": {
    "id": "h1Cp1fMNukot"
   },
   "outputs": [],
   "source": []
  },
  {
   "cell_type": "markdown",
   "metadata": {
    "id": "R3JQUMOAvFXs"
   },
   "source": [
    "**Native accessors:** Native python objects provide good ways of indexing data"
   ]
  },
  {
   "cell_type": "code",
   "execution_count": null,
   "metadata": {
    "colab": {
     "base_uri": "https://localhost:8080/"
    },
    "id": "Ohbp5ckyuorn",
    "outputId": "2f27470a-ca4f-4497-b292-0e7da1b46fd7"
   },
   "outputs": [
    {
     "data": {
      "text/plain": [
       "0      3\n",
       "1      3\n",
       "2      3\n",
       "3      2\n",
       "4      2\n",
       "      ..\n",
       "845    1\n",
       "846    1\n",
       "847    2\n",
       "848    3\n",
       "849    2\n",
       "Name: pclass, Length: 850, dtype: int64"
      ]
     },
     "execution_count": 33,
     "metadata": {},
     "output_type": "execute_result"
    }
   ],
   "source": [
    "data.pclass"
   ]
  },
  {
   "cell_type": "code",
   "execution_count": null,
   "metadata": {
    "colab": {
     "base_uri": "https://localhost:8080/"
    },
    "id": "N-cK1_VTusdv",
    "outputId": "bb011e77-8334-4023-8606-37d72bef573c"
   },
   "outputs": [
    {
     "data": {
      "text/plain": [
       "0      3\n",
       "1      3\n",
       "2      3\n",
       "3      2\n",
       "4      2\n",
       "      ..\n",
       "845    1\n",
       "846    1\n",
       "847    2\n",
       "848    3\n",
       "849    2\n",
       "Name: pclass, Length: 850, dtype: int64"
      ]
     },
     "execution_count": 34,
     "metadata": {},
     "output_type": "execute_result"
    }
   ],
   "source": [
    "data['pclass']"
   ]
  },
  {
   "cell_type": "code",
   "execution_count": null,
   "metadata": {
    "id": "RwF-NRIVvaqc"
   },
   "outputs": [],
   "source": []
  }
 ],
 "metadata": {
  "colab": {
   "provenance": []
  },
  "kernelspec": {
   "display_name": "Python 3 (ipykernel)",
   "language": "python",
   "name": "python3"
  },
  "language_info": {
   "codemirror_mode": {
    "name": "ipython",
    "version": 3
   },
   "file_extension": ".py",
   "mimetype": "text/x-python",
   "name": "python",
   "nbconvert_exporter": "python",
   "pygments_lexer": "ipython3",
   "version": "3.10.6"
  }
 },
 "nbformat": 4,
 "nbformat_minor": 1
}
