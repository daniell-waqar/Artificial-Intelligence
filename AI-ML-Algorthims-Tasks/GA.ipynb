{
 "cells": [
  {
   "cell_type": "markdown",
   "id": "c12a65dc",
   "metadata": {},
   "source": [
    "# ----------------------------------------------------------------------------------------------------786\n",
    "# Name: Muhammad Sherjeel Akhtar\n",
    "# Roll No: 20p-0101\n",
    "# Lab Task: Genetic Algorithm\n",
    "# Subject: Artificial Intelligence Lab\n",
    "# Section: BCS-6Citted To Respected Ma'am: Miss Hurmat Hidayat\n",
    "# -------------------------------------------------------------------------------------------------------------"
   ]
  },
  {
   "cell_type": "markdown",
   "id": "0aa2a2c0",
   "metadata": {},
   "source": [
    "# Lab Task:\n",
    "# Consider the following problem and using genetic algorithm obtain"
   ]
  },
  {
   "cell_type": "markdown",
   "id": "3fe124eb",
   "metadata": {},
   "source": [
    "# Importing Library"
   ]
  },
  {
   "cell_type": "code",
   "execution_count": 54,
   "id": "5ab67cbd",
   "metadata": {},
   "outputs": [],
   "source": [
    "import random"
   ]
  },
  {
   "cell_type": "markdown",
   "id": "275ec373",
   "metadata": {},
   "source": [
    "# Initial parameters"
   ]
  },
  {
   "cell_type": "code",
   "execution_count": 55,
   "id": "e6fa8002",
   "metadata": {},
   "outputs": [],
   "source": [
    "POPULATION_SIZE = 10\n",
    "MUTATION_RATE = 0.05\n",
    "MAX_ITERATIONS = 100"
   ]
  },
  {
   "cell_type": "markdown",
   "id": "2b7970e0",
   "metadata": {},
   "source": [
    "# Initialize population"
   ]
  },
  {
   "cell_type": "code",
   "execution_count": 56,
   "id": "9074c899",
   "metadata": {},
   "outputs": [],
   "source": [
    "population = []\n",
    "for i in range(POPULATION_SIZE):\n",
    "    chromosome = [random.randint(0, 1) for j in range(16)]\n",
    "    population.append(chromosome)"
   ]
  },
  {
   "cell_type": "markdown",
   "id": "beab3a9c",
   "metadata": {},
   "source": [
    "# Fitness function"
   ]
  },
  {
   "cell_type": "code",
   "execution_count": 64,
   "id": "706d37f3",
   "metadata": {},
   "outputs": [],
   "source": [
    "def fitness(chromosome):\n",
    "    array = [chromosome[i:i+4] for i in range(0, len(chromosome), 4)]\n",
    "    return sum([sum(row) for row in array])"
   ]
  },
  {
   "cell_type": "markdown",
   "id": "03703e43",
   "metadata": {},
   "source": [
    "# Roulette wheel selection"
   ]
  },
  {
   "cell_type": "code",
   "execution_count": 58,
   "id": "5ab26957",
   "metadata": {},
   "outputs": [],
   "source": [
    "def selection(population):\n",
    "    fitness_values = [fitness(chromosome) for chromosome in population]\n",
    "    total_fitness = sum(fitness_values)\n",
    "    selection_probabilities = [fitness_value/total_fitness for fitness_value in fitness_values]\n",
    "    selected_indices = random.choices(range(len(population)), selection_probabilities, k=2)\n",
    "    return [population[selected_indices[0]], population[selected_indices[1]]]\n"
   ]
  },
  {
   "cell_type": "markdown",
   "id": "d75f7d43",
   "metadata": {},
   "source": [
    "# Single-point crossover"
   ]
  },
  {
   "cell_type": "code",
   "execution_count": 59,
   "id": "73b5df0b",
   "metadata": {},
   "outputs": [],
   "source": [
    "def crossover(parent1, parent2):\n",
    "    crossover_point = random.randint(1, len(parent1)-1)\n",
    "    child1 = parent1[:crossover_point] + parent2[crossover_point:]\n",
    "    child2 = parent2[:crossover_point] + parent1[crossover_point:]\n",
    "    return [child1, child2]"
   ]
  },
  {
   "cell_type": "markdown",
   "id": "10b27451",
   "metadata": {},
   "source": [
    "# Mutation"
   ]
  },
  {
   "cell_type": "code",
   "execution_count": 60,
   "id": "0261f709",
   "metadata": {},
   "outputs": [],
   "source": [
    "def mutation(child):\n",
    "    for i in range(len(child)):\n",
    "        if random.random() < MUTATION_RATE:\n",
    "            child[i] = 1 - child[i]\n",
    "    return child"
   ]
  },
  {
   "cell_type": "markdown",
   "id": "a5c7e855",
   "metadata": {},
   "source": [
    "# Goal test"
   ]
  },
  {
   "cell_type": "code",
   "execution_count": 61,
   "id": "5a4e25cb",
   "metadata": {},
   "outputs": [],
   "source": [
    "def goal_test(chromosome):\n",
    "    array = [chromosome[i:i+4] for i in range(0, len(chromosome), 4)]\n",
    "    return all([all(row) for row in array])\n"
   ]
  },
  {
   "cell_type": "markdown",
   "id": "e2dfcb83",
   "metadata": {},
   "source": [
    "# Main loop"
   ]
  },
  {
   "cell_type": "code",
   "execution_count": 66,
   "id": "fdb5b63e",
   "metadata": {},
   "outputs": [
    {
     "name": "stdout",
     "output_type": "stream",
     "text": [
      "Chromosome 1: [1, 1, 0, 0, 0, 1, 1, 1, 1, 1, 0, 1, 1, 1, 0, 1]\n",
      "Fitness value: 11\n",
      "\n",
      "Chromosome 2: [1, 1, 1, 1, 0, 1, 1, 0, 0, 1, 1, 0, 1, 0, 1, 1]\n",
      "Fitness value: 11\n",
      "\n",
      "Chromosome 3: [1, 0, 0, 1, 0, 1, 1, 0, 1, 0, 0, 1, 1, 0, 0, 0]\n",
      "Fitness value: 7\n",
      "\n",
      "Chromosome 4: [1, 1, 0, 0, 1, 1, 0, 1, 1, 1, 0, 0, 1, 0, 0, 1]\n",
      "Fitness value: 9\n",
      "\n",
      "Chromosome 5: [1, 0, 1, 1, 0, 0, 0, 0, 1, 0, 1, 0, 1, 0, 0, 0]\n",
      "Fitness value: 6\n",
      "\n",
      "Chromosome 6: [0, 0, 0, 0, 1, 1, 1, 1, 1, 0, 1, 0, 1, 1, 0, 1]\n",
      "Fitness value: 9\n",
      "\n",
      "Chromosome 7: [1, 0, 1, 0, 0, 1, 1, 1, 1, 1, 0, 1, 1, 1, 0, 1]\n",
      "Fitness value: 11\n",
      "\n",
      "Chromosome 8: [1, 1, 1, 1, 1, 1, 1, 0, 0, 1, 1, 0, 1, 0, 1, 1]\n",
      "Fitness value: 12\n",
      "\n",
      "Chromosome 9: [0, 1, 0, 0, 1, 1, 0, 1, 0, 1, 1, 1, 0, 1, 0, 1]\n",
      "Fitness value: 9\n",
      "\n",
      "Chromosome 10: [0, 0, 0, 1, 0, 1, 1, 0, 1, 0, 1, 1, 1, 0, 1, 1]\n",
      "Fitness value: 9\n",
      "\n"
     ]
    }
   ],
   "source": [
    "iteration = 0\n",
    "while iteration < MAX_ITERATIONS:\n",
    "    parents = selection(population)\n",
    "    children = crossover(parents[0], parents[1])\n",
    "    children = [mutation(child) for child in children]\n",
    "    child_fitness = [fitness(child) for child in children]\n",
    "    if any([goal_test(child) for child in children]):\n",
    "        print(\"Solution found after {} iterations.\".format(iteration))\n",
    "        break\n",
    "    min_fitness_index = child_fitness.index(min(child_fitness))\n",
    "    population[min_fitness_index] = children[child_fitness.index(max(child_fitness))]\n",
    "    iteration += 1\n",
    "    \n",
    "# Print final population and fitness values\n",
    "for i in range(POPULATION_SIZE):\n",
    "    print(\"Chromosome {}: {}\".format(i+1, population[i]))\n",
    "    print(\"Fitness value: {}\".format(fitness(population[i])))\n",
    "    print()    \n"
   ]
  },
  {
   "cell_type": "code",
   "execution_count": null,
   "id": "64e1f923",
   "metadata": {},
   "outputs": [],
   "source": [
    "8 puzzle game that consisit of 3X3 grid with eight numbered tiles and one empty tile  \n",
    "the goal of puuzzle game is to rearrange the tiles from a given initial configuration to a desired target configutation  by sliding\n",
    "tiles horizontally or vertically into empty space\n",
    "\n",
    "make it easy to understand and unpilagrised"
   ]
  },
  {
   "cell_type": "code",
   "execution_count": null,
   "id": "4dc8181a",
   "metadata": {},
   "outputs": [],
   "source": []
  }
 ],
 "metadata": {
  "kernelspec": {
   "display_name": "Python 3 (ipykernel)",
   "language": "python",
   "name": "python3"
  },
  "language_info": {
   "codemirror_mode": {
    "name": "ipython",
    "version": 3
   },
   "file_extension": ".py",
   "mimetype": "text/x-python",
   "name": "python",
   "nbconvert_exporter": "python",
   "pygments_lexer": "ipython3",
   "version": "3.10.6"
  }
 },
 "nbformat": 4,
 "nbformat_minor": 5
}
