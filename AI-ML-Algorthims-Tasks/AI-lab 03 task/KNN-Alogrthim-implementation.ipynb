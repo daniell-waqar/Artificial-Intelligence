{
 "cells": [
  {
   "cell_type": "code",
   "execution_count": 1,
   "id": "b341053c",
   "metadata": {},
   "outputs": [],
   "source": [
    "import numpy as np\n",
    "\n",
    "\n",
    "\n",
    "# Compute and return the euclidean distance between a and b\n",
    "import math\n",
    "\n",
    "def euclidean(a, b, length):\n",
    "    distance = 0\n",
    "    for x in range(length):\n",
    "        distance += pow((a[x] - b[x]), 2)\n",
    "    return math.sqrt(distance)"
   ]
  },
  {
   "cell_type": "code",
   "execution_count": 2,
   "id": "12caefc3",
   "metadata": {},
   "outputs": [],
   "source": [
    "\n",
    "class KNearestNeighbors:\n",
    "\n",
    "    def __init__(self, k=3, distance_metric=euclidean):\n",
    "        \"\"\"Initialize k value and distance metric used for model.\"\"\"\n",
    "        self.k = k\n",
    "        self.distance = distance_metric\n",
    "        self.data = None\n",
    "\n",
    "    def train(self, X, y):\n",
    "       \n",
    "        # raise value error if inputs are wrong length or different types\n",
    "        \n",
    "        if len(X) != len(y) or type(X) != type(y):\n",
    "            raise ValueError(\"X and y are wrong!.\")\n",
    "        # convert ndarrays to lists\n",
    "        if type(X) == np.ndarray:\n",
    "            X, y = X.tolist(), y.tolist()\n",
    "        # set data attribute containing instances and labels\n",
    "        self.data = [X[i]+[y[i]] for i in range(len(X))]\n",
    "\n",
    "    def predict(self, a):\n",
    "        \"\"\"Predict class based on k-nearest neighbors.\"\"\"\n",
    "\n",
    "        neighbors = []\n",
    "        # create mapping from distance to instance\n",
    "        distances = {self.distance(x[:-1], a): x for x in self.data}\n",
    "        # collect classes of k instances with shortest distance\n",
    "        for key in sorted(distances.keys())[:self.k]:\n",
    "            neighbors.append(distances[key][-1])\n",
    "        # return most common vote\n",
    "        return max(set(neighbors), key=neighbors.count)"
   ]
  },
  {
   "cell_type": "code",
   "execution_count": null,
   "id": "62384aec",
   "metadata": {},
   "outputs": [],
   "source": []
  }
 ],
 "metadata": {
  "kernelspec": {
   "display_name": "Python 3 (ipykernel)",
   "language": "python",
   "name": "python3"
  },
  "language_info": {
   "codemirror_mode": {
    "name": "ipython",
    "version": 3
   },
   "file_extension": ".py",
   "mimetype": "text/x-python",
   "name": "python",
   "nbconvert_exporter": "python",
   "pygments_lexer": "ipython3",
   "version": "3.10.6"
  }
 },
 "nbformat": 4,
 "nbformat_minor": 5
}
